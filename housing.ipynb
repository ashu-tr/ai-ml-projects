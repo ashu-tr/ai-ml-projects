{
 "cells": [
  {
   "cell_type": "raw",
   "metadata": {},
   "source": [
    "DESCRIPTION\n",
    "\n",
    "Background of Problem Statement :\n",
    "\n",
    "The US Census Bureau has published California Census Data which has 10 types of metrics such as the population, median income, median housing price, and so on for each block group in California. The dataset also serves as an input for project scoping and tries to specify the functional and nonfunctional requirements for it.\n",
    "\n",
    "Problem Objective :\n",
    "\n",
    "The project aims at building a model of housing prices to predict median house values in California using the provided dataset. This model should learn from the data and be able to predict the median housing price in any district, given all the other metrics.\n",
    "\n",
    "Districts or block groups are the smallest geographical units for which the US Census Bureau\n",
    "publishes sample data (a block group typically has a population of 600 to 3,000 people). There are 20,640 districts in the project dataset.\n",
    "\n",
    "Domain: Finance and Housing\n",
    "\n",
    "Analysis Tasks to be performed:\n",
    "\n",
    "1. Build a model of housing prices to predict median house values in California using the provided dataset.\n",
    "\n",
    "2. Train the model to learn from the data to predict the median housing price in any district, given all the other metrics.\n",
    "\n",
    "3. Predict housing prices based on median_income and plot the regression chart for it.\n",
    "\n",
    "1. Load the data :\n",
    "\n",
    "Read the “housing.csv” file from the folder into the program.\n",
    "Print first few rows of this data.\n",
    "Extract input (X) and output (Y) data from the dataset.\n",
    "2. Handle missing values :\n",
    "\n",
    "Fill the missing values with the mean of the respective column.\n",
    "3. Encode categorical data :\n",
    "\n",
    "Convert categorical column in the dataset to numerical data.\n",
    "4. Split the dataset : \n",
    "\n",
    "Split the data into 80% training dataset and 20% test dataset.\n",
    "5. Standardize data :\n",
    "\n",
    "Standardize training and test datasets.\n",
    "6. Perform Linear Regression : \n",
    "\n",
    "Perform Linear Regression on training data.\n",
    "Predict output for test dataset using the fitted model.\n",
    "Print root mean squared error (RMSE) from Linear Regression.\n",
    "            [ HINT: Import mean_squared_error from sklearn.metrics ]\n",
    "\n",
    "7. Bonus exercise: Perform Linear Regression with one independent variable :\n",
    "\n",
    "Extract just the median_income column from the independent variables (from X_train and X_test).\n",
    "Perform Linear Regression to predict housing values based on median_income.\n",
    "Predict output for test dataset using the fitted model.\n",
    "Plot the fitted model for training data as well as for test data to check if the fitted model satisfies the test data.\n",
    "Dataset Description :\n",
    "\n",
    "Field\tDescription\n",
    "longitude\t(signed numeric - float) : Longitude value for the block in California, USA\n",
    "latitude\t(numeric - float ) : Latitude value for the block in California, USA\n",
    "housing_median_age\t(numeric - int ) : Median age of the house in the block\n",
    "total_rooms\t(numeric - int ) : Count of the total number of rooms (excluding bedrooms) in all houses in the block\n",
    "total_bedrooms\t(numeric - float ) : Count of the total number of bedrooms in all houses in the block\n",
    "population\t(numeric - int ) : Count of the total number of population in the block\n",
    "households\t(numeric - int ) : Count of the total number of households in the block\n",
    "median_income\t(numeric - float ) : Median of the total household income of all the houses in the block\n",
    "ocean_proximity\t(numeric - categorical ) : Type of the landscape of the block [ Unique Values : 'NEAR BAY', '<1H OCEAN', 'INLAND', 'NEAR OCEAN', 'ISLAND'  ]\n",
    "median_house_value\t(numeric - int ) : Median of the household prices of all the houses in the block\n",
    " \n",
    "\n",
    "Dataset Size : 20640 rows x 10 columns"
   ]
  },
  {
   "cell_type": "code",
   "execution_count": 1,
   "metadata": {},
   "outputs": [],
   "source": [
    "#import required libraries\n",
    "import numpy as np\n",
    "import pandas as pd\n",
    "import seaborn as sns\n",
    "import matplotlib.pyplot as plt\n",
    "%matplotlib inline"
   ]
  },
  {
   "cell_type": "markdown",
   "metadata": {},
   "source": [
    "# 1. Load the data : "
   ]
  },
  {
   "cell_type": "code",
   "execution_count": 2,
   "metadata": {},
   "outputs": [],
   "source": [
    "# Load csv data\n",
    "df = pd.read_csv(\"housing.csv\")"
   ]
  },
  {
   "cell_type": "code",
   "execution_count": 3,
   "metadata": {},
   "outputs": [
    {
     "data": {
      "text/html": [
       "<div>\n",
       "<style scoped>\n",
       "    .dataframe tbody tr th:only-of-type {\n",
       "        vertical-align: middle;\n",
       "    }\n",
       "\n",
       "    .dataframe tbody tr th {\n",
       "        vertical-align: top;\n",
       "    }\n",
       "\n",
       "    .dataframe thead th {\n",
       "        text-align: right;\n",
       "    }\n",
       "</style>\n",
       "<table border=\"1\" class=\"dataframe\">\n",
       "  <thead>\n",
       "    <tr style=\"text-align: right;\">\n",
       "      <th></th>\n",
       "      <th>longitude</th>\n",
       "      <th>latitude</th>\n",
       "      <th>housing_median_age</th>\n",
       "      <th>total_rooms</th>\n",
       "      <th>total_bedrooms</th>\n",
       "      <th>population</th>\n",
       "      <th>households</th>\n",
       "      <th>median_income</th>\n",
       "      <th>ocean_proximity</th>\n",
       "      <th>median_house_value</th>\n",
       "    </tr>\n",
       "  </thead>\n",
       "  <tbody>\n",
       "    <tr>\n",
       "      <th>0</th>\n",
       "      <td>-122.23</td>\n",
       "      <td>37.88</td>\n",
       "      <td>41</td>\n",
       "      <td>880</td>\n",
       "      <td>129.0</td>\n",
       "      <td>322</td>\n",
       "      <td>126</td>\n",
       "      <td>8.3252</td>\n",
       "      <td>NEAR BAY</td>\n",
       "      <td>452600</td>\n",
       "    </tr>\n",
       "    <tr>\n",
       "      <th>1</th>\n",
       "      <td>-122.22</td>\n",
       "      <td>37.86</td>\n",
       "      <td>21</td>\n",
       "      <td>7099</td>\n",
       "      <td>1106.0</td>\n",
       "      <td>2401</td>\n",
       "      <td>1138</td>\n",
       "      <td>8.3014</td>\n",
       "      <td>NEAR BAY</td>\n",
       "      <td>358500</td>\n",
       "    </tr>\n",
       "    <tr>\n",
       "      <th>2</th>\n",
       "      <td>-122.24</td>\n",
       "      <td>37.85</td>\n",
       "      <td>52</td>\n",
       "      <td>1467</td>\n",
       "      <td>190.0</td>\n",
       "      <td>496</td>\n",
       "      <td>177</td>\n",
       "      <td>7.2574</td>\n",
       "      <td>NEAR BAY</td>\n",
       "      <td>352100</td>\n",
       "    </tr>\n",
       "    <tr>\n",
       "      <th>3</th>\n",
       "      <td>-122.25</td>\n",
       "      <td>37.85</td>\n",
       "      <td>52</td>\n",
       "      <td>1274</td>\n",
       "      <td>235.0</td>\n",
       "      <td>558</td>\n",
       "      <td>219</td>\n",
       "      <td>5.6431</td>\n",
       "      <td>NEAR BAY</td>\n",
       "      <td>341300</td>\n",
       "    </tr>\n",
       "    <tr>\n",
       "      <th>4</th>\n",
       "      <td>-122.25</td>\n",
       "      <td>37.85</td>\n",
       "      <td>52</td>\n",
       "      <td>1627</td>\n",
       "      <td>280.0</td>\n",
       "      <td>565</td>\n",
       "      <td>259</td>\n",
       "      <td>3.8462</td>\n",
       "      <td>NEAR BAY</td>\n",
       "      <td>342200</td>\n",
       "    </tr>\n",
       "  </tbody>\n",
       "</table>\n",
       "</div>"
      ],
      "text/plain": [
       "   longitude  latitude  housing_median_age  total_rooms  total_bedrooms  \\\n",
       "0    -122.23     37.88                  41          880           129.0   \n",
       "1    -122.22     37.86                  21         7099          1106.0   \n",
       "2    -122.24     37.85                  52         1467           190.0   \n",
       "3    -122.25     37.85                  52         1274           235.0   \n",
       "4    -122.25     37.85                  52         1627           280.0   \n",
       "\n",
       "   population  households  median_income ocean_proximity  median_house_value  \n",
       "0         322         126         8.3252        NEAR BAY              452600  \n",
       "1        2401        1138         8.3014        NEAR BAY              358500  \n",
       "2         496         177         7.2574        NEAR BAY              352100  \n",
       "3         558         219         5.6431        NEAR BAY              341300  \n",
       "4         565         259         3.8462        NEAR BAY              342200  "
      ]
     },
     "execution_count": 3,
     "metadata": {},
     "output_type": "execute_result"
    }
   ],
   "source": [
    "# Print first few rows of data\n",
    "df.head()"
   ]
  },
  {
   "cell_type": "code",
   "execution_count": 4,
   "metadata": {},
   "outputs": [
    {
     "data": {
      "text/plain": [
       "pandas.core.frame.DataFrame"
      ]
     },
     "execution_count": 4,
     "metadata": {},
     "output_type": "execute_result"
    }
   ],
   "source": [
    "# df type\n",
    "type(df)"
   ]
  },
  {
   "cell_type": "code",
   "execution_count": 5,
   "metadata": {},
   "outputs": [
    {
     "name": "stdout",
     "output_type": "stream",
     "text": [
      "<class 'pandas.core.frame.DataFrame'>\n",
      "RangeIndex: 20640 entries, 0 to 20639\n",
      "Data columns (total 10 columns):\n",
      " #   Column              Non-Null Count  Dtype  \n",
      "---  ------              --------------  -----  \n",
      " 0   longitude           20640 non-null  float64\n",
      " 1   latitude            20640 non-null  float64\n",
      " 2   housing_median_age  20640 non-null  int64  \n",
      " 3   total_rooms         20640 non-null  int64  \n",
      " 4   total_bedrooms      20433 non-null  float64\n",
      " 5   population          20640 non-null  int64  \n",
      " 6   households          20640 non-null  int64  \n",
      " 7   median_income       20640 non-null  float64\n",
      " 8   ocean_proximity     20640 non-null  object \n",
      " 9   median_house_value  20640 non-null  int64  \n",
      "dtypes: float64(4), int64(5), object(1)\n",
      "memory usage: 1.6+ MB\n"
     ]
    }
   ],
   "source": [
    "#data frame information\n",
    "df.info()"
   ]
  },
  {
   "cell_type": "code",
   "execution_count": 6,
   "metadata": {},
   "outputs": [
    {
     "data": {
      "text/html": [
       "<div>\n",
       "<style scoped>\n",
       "    .dataframe tbody tr th:only-of-type {\n",
       "        vertical-align: middle;\n",
       "    }\n",
       "\n",
       "    .dataframe tbody tr th {\n",
       "        vertical-align: top;\n",
       "    }\n",
       "\n",
       "    .dataframe thead th {\n",
       "        text-align: right;\n",
       "    }\n",
       "</style>\n",
       "<table border=\"1\" class=\"dataframe\">\n",
       "  <thead>\n",
       "    <tr style=\"text-align: right;\">\n",
       "      <th></th>\n",
       "      <th>longitude</th>\n",
       "      <th>latitude</th>\n",
       "      <th>housing_median_age</th>\n",
       "      <th>total_rooms</th>\n",
       "      <th>total_bedrooms</th>\n",
       "      <th>population</th>\n",
       "      <th>households</th>\n",
       "      <th>median_income</th>\n",
       "      <th>median_house_value</th>\n",
       "    </tr>\n",
       "  </thead>\n",
       "  <tbody>\n",
       "    <tr>\n",
       "      <th>count</th>\n",
       "      <td>20640.000000</td>\n",
       "      <td>20640.000000</td>\n",
       "      <td>20640.000000</td>\n",
       "      <td>20640.000000</td>\n",
       "      <td>20433.000000</td>\n",
       "      <td>20640.000000</td>\n",
       "      <td>20640.000000</td>\n",
       "      <td>20640.000000</td>\n",
       "      <td>20640.000000</td>\n",
       "    </tr>\n",
       "    <tr>\n",
       "      <th>mean</th>\n",
       "      <td>-119.569704</td>\n",
       "      <td>35.631861</td>\n",
       "      <td>28.639486</td>\n",
       "      <td>2635.763081</td>\n",
       "      <td>537.870553</td>\n",
       "      <td>1425.476744</td>\n",
       "      <td>499.539680</td>\n",
       "      <td>3.870671</td>\n",
       "      <td>206855.816909</td>\n",
       "    </tr>\n",
       "    <tr>\n",
       "      <th>std</th>\n",
       "      <td>2.003532</td>\n",
       "      <td>2.135952</td>\n",
       "      <td>12.585558</td>\n",
       "      <td>2181.615252</td>\n",
       "      <td>421.385070</td>\n",
       "      <td>1132.462122</td>\n",
       "      <td>382.329753</td>\n",
       "      <td>1.899822</td>\n",
       "      <td>115395.615874</td>\n",
       "    </tr>\n",
       "    <tr>\n",
       "      <th>min</th>\n",
       "      <td>-124.350000</td>\n",
       "      <td>32.540000</td>\n",
       "      <td>1.000000</td>\n",
       "      <td>2.000000</td>\n",
       "      <td>1.000000</td>\n",
       "      <td>3.000000</td>\n",
       "      <td>1.000000</td>\n",
       "      <td>0.499900</td>\n",
       "      <td>14999.000000</td>\n",
       "    </tr>\n",
       "    <tr>\n",
       "      <th>25%</th>\n",
       "      <td>-121.800000</td>\n",
       "      <td>33.930000</td>\n",
       "      <td>18.000000</td>\n",
       "      <td>1447.750000</td>\n",
       "      <td>296.000000</td>\n",
       "      <td>787.000000</td>\n",
       "      <td>280.000000</td>\n",
       "      <td>2.563400</td>\n",
       "      <td>119600.000000</td>\n",
       "    </tr>\n",
       "    <tr>\n",
       "      <th>50%</th>\n",
       "      <td>-118.490000</td>\n",
       "      <td>34.260000</td>\n",
       "      <td>29.000000</td>\n",
       "      <td>2127.000000</td>\n",
       "      <td>435.000000</td>\n",
       "      <td>1166.000000</td>\n",
       "      <td>409.000000</td>\n",
       "      <td>3.534800</td>\n",
       "      <td>179700.000000</td>\n",
       "    </tr>\n",
       "    <tr>\n",
       "      <th>75%</th>\n",
       "      <td>-118.010000</td>\n",
       "      <td>37.710000</td>\n",
       "      <td>37.000000</td>\n",
       "      <td>3148.000000</td>\n",
       "      <td>647.000000</td>\n",
       "      <td>1725.000000</td>\n",
       "      <td>605.000000</td>\n",
       "      <td>4.743250</td>\n",
       "      <td>264725.000000</td>\n",
       "    </tr>\n",
       "    <tr>\n",
       "      <th>max</th>\n",
       "      <td>-114.310000</td>\n",
       "      <td>41.950000</td>\n",
       "      <td>52.000000</td>\n",
       "      <td>39320.000000</td>\n",
       "      <td>6445.000000</td>\n",
       "      <td>35682.000000</td>\n",
       "      <td>6082.000000</td>\n",
       "      <td>15.000100</td>\n",
       "      <td>500001.000000</td>\n",
       "    </tr>\n",
       "  </tbody>\n",
       "</table>\n",
       "</div>"
      ],
      "text/plain": [
       "          longitude      latitude  housing_median_age   total_rooms  \\\n",
       "count  20640.000000  20640.000000        20640.000000  20640.000000   \n",
       "mean    -119.569704     35.631861           28.639486   2635.763081   \n",
       "std        2.003532      2.135952           12.585558   2181.615252   \n",
       "min     -124.350000     32.540000            1.000000      2.000000   \n",
       "25%     -121.800000     33.930000           18.000000   1447.750000   \n",
       "50%     -118.490000     34.260000           29.000000   2127.000000   \n",
       "75%     -118.010000     37.710000           37.000000   3148.000000   \n",
       "max     -114.310000     41.950000           52.000000  39320.000000   \n",
       "\n",
       "       total_bedrooms    population    households  median_income  \\\n",
       "count    20433.000000  20640.000000  20640.000000   20640.000000   \n",
       "mean       537.870553   1425.476744    499.539680       3.870671   \n",
       "std        421.385070   1132.462122    382.329753       1.899822   \n",
       "min          1.000000      3.000000      1.000000       0.499900   \n",
       "25%        296.000000    787.000000    280.000000       2.563400   \n",
       "50%        435.000000   1166.000000    409.000000       3.534800   \n",
       "75%        647.000000   1725.000000    605.000000       4.743250   \n",
       "max       6445.000000  35682.000000   6082.000000      15.000100   \n",
       "\n",
       "       median_house_value  \n",
       "count        20640.000000  \n",
       "mean        206855.816909  \n",
       "std         115395.615874  \n",
       "min          14999.000000  \n",
       "25%         119600.000000  \n",
       "50%         179700.000000  \n",
       "75%         264725.000000  \n",
       "max         500001.000000  "
      ]
     },
     "execution_count": 6,
     "metadata": {},
     "output_type": "execute_result"
    }
   ],
   "source": [
    "#descript data frames\n",
    "df.describe()"
   ]
  },
  {
   "cell_type": "code",
   "execution_count": 7,
   "metadata": {},
   "outputs": [
    {
     "data": {
      "text/plain": [
       "Index(['longitude', 'latitude', 'housing_median_age', 'total_rooms',\n",
       "       'total_bedrooms', 'population', 'households', 'median_income',\n",
       "       'ocean_proximity', 'median_house_value'],\n",
       "      dtype='object')"
      ]
     },
     "execution_count": 7,
     "metadata": {},
     "output_type": "execute_result"
    }
   ],
   "source": [
    "#print the number of columns\n",
    "df.columns"
   ]
  },
  {
   "cell_type": "markdown",
   "metadata": {},
   "source": [
    "# 2. handle missing values "
   ]
  },
  {
   "cell_type": "code",
   "execution_count": 8,
   "metadata": {},
   "outputs": [
    {
     "data": {
      "text/plain": [
       "longitude               0\n",
       "latitude                0\n",
       "housing_median_age      0\n",
       "total_rooms             0\n",
       "total_bedrooms        207\n",
       "population              0\n",
       "households              0\n",
       "median_income           0\n",
       "ocean_proximity         0\n",
       "median_house_value      0\n",
       "dtype: int64"
      ]
     },
     "execution_count": 8,
     "metadata": {},
     "output_type": "execute_result"
    }
   ],
   "source": [
    "#check for missing values in dataset.\n",
    "df.isnull().sum()"
   ]
  },
  {
   "cell_type": "markdown",
   "metadata": {},
   "source": [
    "### Remarks:"
   ]
  },
  {
   "cell_type": "markdown",
   "metadata": {},
   "source": [
    "We see 207 null values in column total_bedrooms, replace it with mean value and check the missing value again. "
   ]
  },
  {
   "cell_type": "code",
   "execution_count": 9,
   "metadata": {},
   "outputs": [
    {
     "data": {
      "text/plain": [
       "537.8705525375618"
      ]
     },
     "execution_count": 9,
     "metadata": {},
     "output_type": "execute_result"
    }
   ],
   "source": [
    "#mean value\n",
    "df['total_bedrooms'].mean()"
   ]
  },
  {
   "cell_type": "code",
   "execution_count": 10,
   "metadata": {},
   "outputs": [
    {
     "data": {
      "text/plain": [
       "longitude             0\n",
       "latitude              0\n",
       "housing_median_age    0\n",
       "total_rooms           0\n",
       "total_bedrooms        0\n",
       "population            0\n",
       "households            0\n",
       "median_income         0\n",
       "ocean_proximity       0\n",
       "median_house_value    0\n",
       "dtype: int64"
      ]
     },
     "execution_count": 10,
     "metadata": {},
     "output_type": "execute_result"
    }
   ],
   "source": [
    "# replace missing values in column total_bedrooms with mean value and check for missing values again.\n",
    "df['total_bedrooms']=df['total_bedrooms'].fillna(df['total_bedrooms'].mean())\n",
    "df.isnull().sum()"
   ]
  },
  {
   "cell_type": "markdown",
   "metadata": {},
   "source": [
    "# 3. Encode categorical data :"
   ]
  },
  {
   "cell_type": "code",
   "execution_count": 11,
   "metadata": {},
   "outputs": [],
   "source": [
    "# Convert categorical column ocean_proximity to numerical data.\n",
    "# using get_dummies for data manipulation for the categorical column ocean_proximity\n",
    "df = pd.get_dummies(df, columns=['ocean_proximity'])"
   ]
  },
  {
   "cell_type": "code",
   "execution_count": 12,
   "metadata": {},
   "outputs": [
    {
     "data": {
      "text/html": [
       "<div>\n",
       "<style scoped>\n",
       "    .dataframe tbody tr th:only-of-type {\n",
       "        vertical-align: middle;\n",
       "    }\n",
       "\n",
       "    .dataframe tbody tr th {\n",
       "        vertical-align: top;\n",
       "    }\n",
       "\n",
       "    .dataframe thead th {\n",
       "        text-align: right;\n",
       "    }\n",
       "</style>\n",
       "<table border=\"1\" class=\"dataframe\">\n",
       "  <thead>\n",
       "    <tr style=\"text-align: right;\">\n",
       "      <th></th>\n",
       "      <th>longitude</th>\n",
       "      <th>latitude</th>\n",
       "      <th>housing_median_age</th>\n",
       "      <th>total_rooms</th>\n",
       "      <th>total_bedrooms</th>\n",
       "      <th>population</th>\n",
       "      <th>households</th>\n",
       "      <th>median_income</th>\n",
       "      <th>median_house_value</th>\n",
       "      <th>ocean_proximity_&lt;1H OCEAN</th>\n",
       "      <th>ocean_proximity_INLAND</th>\n",
       "      <th>ocean_proximity_ISLAND</th>\n",
       "      <th>ocean_proximity_NEAR BAY</th>\n",
       "      <th>ocean_proximity_NEAR OCEAN</th>\n",
       "    </tr>\n",
       "  </thead>\n",
       "  <tbody>\n",
       "    <tr>\n",
       "      <th>0</th>\n",
       "      <td>-122.23</td>\n",
       "      <td>37.88</td>\n",
       "      <td>41</td>\n",
       "      <td>880</td>\n",
       "      <td>129.0</td>\n",
       "      <td>322</td>\n",
       "      <td>126</td>\n",
       "      <td>8.3252</td>\n",
       "      <td>452600</td>\n",
       "      <td>0</td>\n",
       "      <td>0</td>\n",
       "      <td>0</td>\n",
       "      <td>1</td>\n",
       "      <td>0</td>\n",
       "    </tr>\n",
       "    <tr>\n",
       "      <th>1</th>\n",
       "      <td>-122.22</td>\n",
       "      <td>37.86</td>\n",
       "      <td>21</td>\n",
       "      <td>7099</td>\n",
       "      <td>1106.0</td>\n",
       "      <td>2401</td>\n",
       "      <td>1138</td>\n",
       "      <td>8.3014</td>\n",
       "      <td>358500</td>\n",
       "      <td>0</td>\n",
       "      <td>0</td>\n",
       "      <td>0</td>\n",
       "      <td>1</td>\n",
       "      <td>0</td>\n",
       "    </tr>\n",
       "    <tr>\n",
       "      <th>2</th>\n",
       "      <td>-122.24</td>\n",
       "      <td>37.85</td>\n",
       "      <td>52</td>\n",
       "      <td>1467</td>\n",
       "      <td>190.0</td>\n",
       "      <td>496</td>\n",
       "      <td>177</td>\n",
       "      <td>7.2574</td>\n",
       "      <td>352100</td>\n",
       "      <td>0</td>\n",
       "      <td>0</td>\n",
       "      <td>0</td>\n",
       "      <td>1</td>\n",
       "      <td>0</td>\n",
       "    </tr>\n",
       "    <tr>\n",
       "      <th>3</th>\n",
       "      <td>-122.25</td>\n",
       "      <td>37.85</td>\n",
       "      <td>52</td>\n",
       "      <td>1274</td>\n",
       "      <td>235.0</td>\n",
       "      <td>558</td>\n",
       "      <td>219</td>\n",
       "      <td>5.6431</td>\n",
       "      <td>341300</td>\n",
       "      <td>0</td>\n",
       "      <td>0</td>\n",
       "      <td>0</td>\n",
       "      <td>1</td>\n",
       "      <td>0</td>\n",
       "    </tr>\n",
       "    <tr>\n",
       "      <th>4</th>\n",
       "      <td>-122.25</td>\n",
       "      <td>37.85</td>\n",
       "      <td>52</td>\n",
       "      <td>1627</td>\n",
       "      <td>280.0</td>\n",
       "      <td>565</td>\n",
       "      <td>259</td>\n",
       "      <td>3.8462</td>\n",
       "      <td>342200</td>\n",
       "      <td>0</td>\n",
       "      <td>0</td>\n",
       "      <td>0</td>\n",
       "      <td>1</td>\n",
       "      <td>0</td>\n",
       "    </tr>\n",
       "    <tr>\n",
       "      <th>...</th>\n",
       "      <td>...</td>\n",
       "      <td>...</td>\n",
       "      <td>...</td>\n",
       "      <td>...</td>\n",
       "      <td>...</td>\n",
       "      <td>...</td>\n",
       "      <td>...</td>\n",
       "      <td>...</td>\n",
       "      <td>...</td>\n",
       "      <td>...</td>\n",
       "      <td>...</td>\n",
       "      <td>...</td>\n",
       "      <td>...</td>\n",
       "      <td>...</td>\n",
       "    </tr>\n",
       "    <tr>\n",
       "      <th>20635</th>\n",
       "      <td>-121.09</td>\n",
       "      <td>39.48</td>\n",
       "      <td>25</td>\n",
       "      <td>1665</td>\n",
       "      <td>374.0</td>\n",
       "      <td>845</td>\n",
       "      <td>330</td>\n",
       "      <td>1.5603</td>\n",
       "      <td>78100</td>\n",
       "      <td>0</td>\n",
       "      <td>1</td>\n",
       "      <td>0</td>\n",
       "      <td>0</td>\n",
       "      <td>0</td>\n",
       "    </tr>\n",
       "    <tr>\n",
       "      <th>20636</th>\n",
       "      <td>-121.21</td>\n",
       "      <td>39.49</td>\n",
       "      <td>18</td>\n",
       "      <td>697</td>\n",
       "      <td>150.0</td>\n",
       "      <td>356</td>\n",
       "      <td>114</td>\n",
       "      <td>2.5568</td>\n",
       "      <td>77100</td>\n",
       "      <td>0</td>\n",
       "      <td>1</td>\n",
       "      <td>0</td>\n",
       "      <td>0</td>\n",
       "      <td>0</td>\n",
       "    </tr>\n",
       "    <tr>\n",
       "      <th>20637</th>\n",
       "      <td>-121.22</td>\n",
       "      <td>39.43</td>\n",
       "      <td>17</td>\n",
       "      <td>2254</td>\n",
       "      <td>485.0</td>\n",
       "      <td>1007</td>\n",
       "      <td>433</td>\n",
       "      <td>1.7000</td>\n",
       "      <td>92300</td>\n",
       "      <td>0</td>\n",
       "      <td>1</td>\n",
       "      <td>0</td>\n",
       "      <td>0</td>\n",
       "      <td>0</td>\n",
       "    </tr>\n",
       "    <tr>\n",
       "      <th>20638</th>\n",
       "      <td>-121.32</td>\n",
       "      <td>39.43</td>\n",
       "      <td>18</td>\n",
       "      <td>1860</td>\n",
       "      <td>409.0</td>\n",
       "      <td>741</td>\n",
       "      <td>349</td>\n",
       "      <td>1.8672</td>\n",
       "      <td>84700</td>\n",
       "      <td>0</td>\n",
       "      <td>1</td>\n",
       "      <td>0</td>\n",
       "      <td>0</td>\n",
       "      <td>0</td>\n",
       "    </tr>\n",
       "    <tr>\n",
       "      <th>20639</th>\n",
       "      <td>-121.24</td>\n",
       "      <td>39.37</td>\n",
       "      <td>16</td>\n",
       "      <td>2785</td>\n",
       "      <td>616.0</td>\n",
       "      <td>1387</td>\n",
       "      <td>530</td>\n",
       "      <td>2.3886</td>\n",
       "      <td>89400</td>\n",
       "      <td>0</td>\n",
       "      <td>1</td>\n",
       "      <td>0</td>\n",
       "      <td>0</td>\n",
       "      <td>0</td>\n",
       "    </tr>\n",
       "  </tbody>\n",
       "</table>\n",
       "<p>20640 rows × 14 columns</p>\n",
       "</div>"
      ],
      "text/plain": [
       "       longitude  latitude  housing_median_age  total_rooms  total_bedrooms  \\\n",
       "0        -122.23     37.88                  41          880           129.0   \n",
       "1        -122.22     37.86                  21         7099          1106.0   \n",
       "2        -122.24     37.85                  52         1467           190.0   \n",
       "3        -122.25     37.85                  52         1274           235.0   \n",
       "4        -122.25     37.85                  52         1627           280.0   \n",
       "...          ...       ...                 ...          ...             ...   \n",
       "20635    -121.09     39.48                  25         1665           374.0   \n",
       "20636    -121.21     39.49                  18          697           150.0   \n",
       "20637    -121.22     39.43                  17         2254           485.0   \n",
       "20638    -121.32     39.43                  18         1860           409.0   \n",
       "20639    -121.24     39.37                  16         2785           616.0   \n",
       "\n",
       "       population  households  median_income  median_house_value  \\\n",
       "0             322         126         8.3252              452600   \n",
       "1            2401        1138         8.3014              358500   \n",
       "2             496         177         7.2574              352100   \n",
       "3             558         219         5.6431              341300   \n",
       "4             565         259         3.8462              342200   \n",
       "...           ...         ...            ...                 ...   \n",
       "20635         845         330         1.5603               78100   \n",
       "20636         356         114         2.5568               77100   \n",
       "20637        1007         433         1.7000               92300   \n",
       "20638         741         349         1.8672               84700   \n",
       "20639        1387         530         2.3886               89400   \n",
       "\n",
       "       ocean_proximity_<1H OCEAN  ocean_proximity_INLAND  \\\n",
       "0                              0                       0   \n",
       "1                              0                       0   \n",
       "2                              0                       0   \n",
       "3                              0                       0   \n",
       "4                              0                       0   \n",
       "...                          ...                     ...   \n",
       "20635                          0                       1   \n",
       "20636                          0                       1   \n",
       "20637                          0                       1   \n",
       "20638                          0                       1   \n",
       "20639                          0                       1   \n",
       "\n",
       "       ocean_proximity_ISLAND  ocean_proximity_NEAR BAY  \\\n",
       "0                           0                         1   \n",
       "1                           0                         1   \n",
       "2                           0                         1   \n",
       "3                           0                         1   \n",
       "4                           0                         1   \n",
       "...                       ...                       ...   \n",
       "20635                       0                         0   \n",
       "20636                       0                         0   \n",
       "20637                       0                         0   \n",
       "20638                       0                         0   \n",
       "20639                       0                         0   \n",
       "\n",
       "       ocean_proximity_NEAR OCEAN  \n",
       "0                               0  \n",
       "1                               0  \n",
       "2                               0  \n",
       "3                               0  \n",
       "4                               0  \n",
       "...                           ...  \n",
       "20635                           0  \n",
       "20636                           0  \n",
       "20637                           0  \n",
       "20638                           0  \n",
       "20639                           0  \n",
       "\n",
       "[20640 rows x 14 columns]"
      ]
     },
     "execution_count": 12,
     "metadata": {},
     "output_type": "execute_result"
    }
   ],
   "source": [
    "df"
   ]
  },
  {
   "cell_type": "code",
   "execution_count": 13,
   "metadata": {},
   "outputs": [],
   "source": [
    "# Drop 'ocean_proximity_<1H OCEAN' column.\n",
    "df = df.drop(['ocean_proximity_<1H OCEAN'], axis = 1)"
   ]
  },
  {
   "cell_type": "code",
   "execution_count": 14,
   "metadata": {},
   "outputs": [
    {
     "data": {
      "text/html": [
       "<div>\n",
       "<style scoped>\n",
       "    .dataframe tbody tr th:only-of-type {\n",
       "        vertical-align: middle;\n",
       "    }\n",
       "\n",
       "    .dataframe tbody tr th {\n",
       "        vertical-align: top;\n",
       "    }\n",
       "\n",
       "    .dataframe thead th {\n",
       "        text-align: right;\n",
       "    }\n",
       "</style>\n",
       "<table border=\"1\" class=\"dataframe\">\n",
       "  <thead>\n",
       "    <tr style=\"text-align: right;\">\n",
       "      <th></th>\n",
       "      <th>longitude</th>\n",
       "      <th>latitude</th>\n",
       "      <th>housing_median_age</th>\n",
       "      <th>total_rooms</th>\n",
       "      <th>total_bedrooms</th>\n",
       "      <th>population</th>\n",
       "      <th>households</th>\n",
       "      <th>median_income</th>\n",
       "      <th>median_house_value</th>\n",
       "      <th>ocean_proximity_INLAND</th>\n",
       "      <th>ocean_proximity_ISLAND</th>\n",
       "      <th>ocean_proximity_NEAR BAY</th>\n",
       "      <th>ocean_proximity_NEAR OCEAN</th>\n",
       "    </tr>\n",
       "  </thead>\n",
       "  <tbody>\n",
       "    <tr>\n",
       "      <th>0</th>\n",
       "      <td>-122.23</td>\n",
       "      <td>37.88</td>\n",
       "      <td>41</td>\n",
       "      <td>880</td>\n",
       "      <td>129.0</td>\n",
       "      <td>322</td>\n",
       "      <td>126</td>\n",
       "      <td>8.3252</td>\n",
       "      <td>452600</td>\n",
       "      <td>0</td>\n",
       "      <td>0</td>\n",
       "      <td>1</td>\n",
       "      <td>0</td>\n",
       "    </tr>\n",
       "    <tr>\n",
       "      <th>1</th>\n",
       "      <td>-122.22</td>\n",
       "      <td>37.86</td>\n",
       "      <td>21</td>\n",
       "      <td>7099</td>\n",
       "      <td>1106.0</td>\n",
       "      <td>2401</td>\n",
       "      <td>1138</td>\n",
       "      <td>8.3014</td>\n",
       "      <td>358500</td>\n",
       "      <td>0</td>\n",
       "      <td>0</td>\n",
       "      <td>1</td>\n",
       "      <td>0</td>\n",
       "    </tr>\n",
       "    <tr>\n",
       "      <th>2</th>\n",
       "      <td>-122.24</td>\n",
       "      <td>37.85</td>\n",
       "      <td>52</td>\n",
       "      <td>1467</td>\n",
       "      <td>190.0</td>\n",
       "      <td>496</td>\n",
       "      <td>177</td>\n",
       "      <td>7.2574</td>\n",
       "      <td>352100</td>\n",
       "      <td>0</td>\n",
       "      <td>0</td>\n",
       "      <td>1</td>\n",
       "      <td>0</td>\n",
       "    </tr>\n",
       "    <tr>\n",
       "      <th>3</th>\n",
       "      <td>-122.25</td>\n",
       "      <td>37.85</td>\n",
       "      <td>52</td>\n",
       "      <td>1274</td>\n",
       "      <td>235.0</td>\n",
       "      <td>558</td>\n",
       "      <td>219</td>\n",
       "      <td>5.6431</td>\n",
       "      <td>341300</td>\n",
       "      <td>0</td>\n",
       "      <td>0</td>\n",
       "      <td>1</td>\n",
       "      <td>0</td>\n",
       "    </tr>\n",
       "    <tr>\n",
       "      <th>4</th>\n",
       "      <td>-122.25</td>\n",
       "      <td>37.85</td>\n",
       "      <td>52</td>\n",
       "      <td>1627</td>\n",
       "      <td>280.0</td>\n",
       "      <td>565</td>\n",
       "      <td>259</td>\n",
       "      <td>3.8462</td>\n",
       "      <td>342200</td>\n",
       "      <td>0</td>\n",
       "      <td>0</td>\n",
       "      <td>1</td>\n",
       "      <td>0</td>\n",
       "    </tr>\n",
       "    <tr>\n",
       "      <th>...</th>\n",
       "      <td>...</td>\n",
       "      <td>...</td>\n",
       "      <td>...</td>\n",
       "      <td>...</td>\n",
       "      <td>...</td>\n",
       "      <td>...</td>\n",
       "      <td>...</td>\n",
       "      <td>...</td>\n",
       "      <td>...</td>\n",
       "      <td>...</td>\n",
       "      <td>...</td>\n",
       "      <td>...</td>\n",
       "      <td>...</td>\n",
       "    </tr>\n",
       "    <tr>\n",
       "      <th>20635</th>\n",
       "      <td>-121.09</td>\n",
       "      <td>39.48</td>\n",
       "      <td>25</td>\n",
       "      <td>1665</td>\n",
       "      <td>374.0</td>\n",
       "      <td>845</td>\n",
       "      <td>330</td>\n",
       "      <td>1.5603</td>\n",
       "      <td>78100</td>\n",
       "      <td>1</td>\n",
       "      <td>0</td>\n",
       "      <td>0</td>\n",
       "      <td>0</td>\n",
       "    </tr>\n",
       "    <tr>\n",
       "      <th>20636</th>\n",
       "      <td>-121.21</td>\n",
       "      <td>39.49</td>\n",
       "      <td>18</td>\n",
       "      <td>697</td>\n",
       "      <td>150.0</td>\n",
       "      <td>356</td>\n",
       "      <td>114</td>\n",
       "      <td>2.5568</td>\n",
       "      <td>77100</td>\n",
       "      <td>1</td>\n",
       "      <td>0</td>\n",
       "      <td>0</td>\n",
       "      <td>0</td>\n",
       "    </tr>\n",
       "    <tr>\n",
       "      <th>20637</th>\n",
       "      <td>-121.22</td>\n",
       "      <td>39.43</td>\n",
       "      <td>17</td>\n",
       "      <td>2254</td>\n",
       "      <td>485.0</td>\n",
       "      <td>1007</td>\n",
       "      <td>433</td>\n",
       "      <td>1.7000</td>\n",
       "      <td>92300</td>\n",
       "      <td>1</td>\n",
       "      <td>0</td>\n",
       "      <td>0</td>\n",
       "      <td>0</td>\n",
       "    </tr>\n",
       "    <tr>\n",
       "      <th>20638</th>\n",
       "      <td>-121.32</td>\n",
       "      <td>39.43</td>\n",
       "      <td>18</td>\n",
       "      <td>1860</td>\n",
       "      <td>409.0</td>\n",
       "      <td>741</td>\n",
       "      <td>349</td>\n",
       "      <td>1.8672</td>\n",
       "      <td>84700</td>\n",
       "      <td>1</td>\n",
       "      <td>0</td>\n",
       "      <td>0</td>\n",
       "      <td>0</td>\n",
       "    </tr>\n",
       "    <tr>\n",
       "      <th>20639</th>\n",
       "      <td>-121.24</td>\n",
       "      <td>39.37</td>\n",
       "      <td>16</td>\n",
       "      <td>2785</td>\n",
       "      <td>616.0</td>\n",
       "      <td>1387</td>\n",
       "      <td>530</td>\n",
       "      <td>2.3886</td>\n",
       "      <td>89400</td>\n",
       "      <td>1</td>\n",
       "      <td>0</td>\n",
       "      <td>0</td>\n",
       "      <td>0</td>\n",
       "    </tr>\n",
       "  </tbody>\n",
       "</table>\n",
       "<p>20640 rows × 13 columns</p>\n",
       "</div>"
      ],
      "text/plain": [
       "       longitude  latitude  housing_median_age  total_rooms  total_bedrooms  \\\n",
       "0        -122.23     37.88                  41          880           129.0   \n",
       "1        -122.22     37.86                  21         7099          1106.0   \n",
       "2        -122.24     37.85                  52         1467           190.0   \n",
       "3        -122.25     37.85                  52         1274           235.0   \n",
       "4        -122.25     37.85                  52         1627           280.0   \n",
       "...          ...       ...                 ...          ...             ...   \n",
       "20635    -121.09     39.48                  25         1665           374.0   \n",
       "20636    -121.21     39.49                  18          697           150.0   \n",
       "20637    -121.22     39.43                  17         2254           485.0   \n",
       "20638    -121.32     39.43                  18         1860           409.0   \n",
       "20639    -121.24     39.37                  16         2785           616.0   \n",
       "\n",
       "       population  households  median_income  median_house_value  \\\n",
       "0             322         126         8.3252              452600   \n",
       "1            2401        1138         8.3014              358500   \n",
       "2             496         177         7.2574              352100   \n",
       "3             558         219         5.6431              341300   \n",
       "4             565         259         3.8462              342200   \n",
       "...           ...         ...            ...                 ...   \n",
       "20635         845         330         1.5603               78100   \n",
       "20636         356         114         2.5568               77100   \n",
       "20637        1007         433         1.7000               92300   \n",
       "20638         741         349         1.8672               84700   \n",
       "20639        1387         530         2.3886               89400   \n",
       "\n",
       "       ocean_proximity_INLAND  ocean_proximity_ISLAND  \\\n",
       "0                           0                       0   \n",
       "1                           0                       0   \n",
       "2                           0                       0   \n",
       "3                           0                       0   \n",
       "4                           0                       0   \n",
       "...                       ...                     ...   \n",
       "20635                       1                       0   \n",
       "20636                       1                       0   \n",
       "20637                       1                       0   \n",
       "20638                       1                       0   \n",
       "20639                       1                       0   \n",
       "\n",
       "       ocean_proximity_NEAR BAY  ocean_proximity_NEAR OCEAN  \n",
       "0                             1                           0  \n",
       "1                             1                           0  \n",
       "2                             1                           0  \n",
       "3                             1                           0  \n",
       "4                             1                           0  \n",
       "...                         ...                         ...  \n",
       "20635                         0                           0  \n",
       "20636                         0                           0  \n",
       "20637                         0                           0  \n",
       "20638                         0                           0  \n",
       "20639                         0                           0  \n",
       "\n",
       "[20640 rows x 13 columns]"
      ]
     },
     "execution_count": 14,
     "metadata": {},
     "output_type": "execute_result"
    }
   ],
   "source": [
    "df"
   ]
  },
  {
   "cell_type": "markdown",
   "metadata": {},
   "source": [
    "# 4. Standardize data :"
   ]
  },
  {
   "cell_type": "code",
   "execution_count": 15,
   "metadata": {},
   "outputs": [
    {
     "data": {
      "text/html": [
       "<div>\n",
       "<style scoped>\n",
       "    .dataframe tbody tr th:only-of-type {\n",
       "        vertical-align: middle;\n",
       "    }\n",
       "\n",
       "    .dataframe tbody tr th {\n",
       "        vertical-align: top;\n",
       "    }\n",
       "\n",
       "    .dataframe thead th {\n",
       "        text-align: right;\n",
       "    }\n",
       "</style>\n",
       "<table border=\"1\" class=\"dataframe\">\n",
       "  <thead>\n",
       "    <tr style=\"text-align: right;\">\n",
       "      <th></th>\n",
       "      <th>longitude</th>\n",
       "      <th>latitude</th>\n",
       "      <th>housing_median_age</th>\n",
       "      <th>total_rooms</th>\n",
       "      <th>total_bedrooms</th>\n",
       "      <th>population</th>\n",
       "      <th>households</th>\n",
       "      <th>median_income</th>\n",
       "      <th>median_house_value</th>\n",
       "      <th>ocean_proximity_INLAND</th>\n",
       "      <th>ocean_proximity_ISLAND</th>\n",
       "      <th>ocean_proximity_NEAR BAY</th>\n",
       "      <th>ocean_proximity_NEAR OCEAN</th>\n",
       "    </tr>\n",
       "  </thead>\n",
       "  <tbody>\n",
       "    <tr>\n",
       "      <th>0</th>\n",
       "      <td>-1.327835</td>\n",
       "      <td>1.052548</td>\n",
       "      <td>0.982143</td>\n",
       "      <td>-0.804819</td>\n",
       "      <td>-0.975228</td>\n",
       "      <td>-0.974429</td>\n",
       "      <td>-0.977033</td>\n",
       "      <td>2.344766</td>\n",
       "      <td>2.129631</td>\n",
       "      <td>-0.681889</td>\n",
       "      <td>-0.015566</td>\n",
       "      <td>2.830742</td>\n",
       "      <td>-0.384466</td>\n",
       "    </tr>\n",
       "    <tr>\n",
       "      <th>1</th>\n",
       "      <td>-1.322844</td>\n",
       "      <td>1.043185</td>\n",
       "      <td>-0.607019</td>\n",
       "      <td>2.045890</td>\n",
       "      <td>1.355088</td>\n",
       "      <td>0.861439</td>\n",
       "      <td>1.669961</td>\n",
       "      <td>2.332238</td>\n",
       "      <td>1.314156</td>\n",
       "      <td>-0.681889</td>\n",
       "      <td>-0.015566</td>\n",
       "      <td>2.830742</td>\n",
       "      <td>-0.384466</td>\n",
       "    </tr>\n",
       "    <tr>\n",
       "      <th>2</th>\n",
       "      <td>-1.332827</td>\n",
       "      <td>1.038503</td>\n",
       "      <td>1.856182</td>\n",
       "      <td>-0.535746</td>\n",
       "      <td>-0.829732</td>\n",
       "      <td>-0.820777</td>\n",
       "      <td>-0.843637</td>\n",
       "      <td>1.782699</td>\n",
       "      <td>1.258693</td>\n",
       "      <td>-0.681889</td>\n",
       "      <td>-0.015566</td>\n",
       "      <td>2.830742</td>\n",
       "      <td>-0.384466</td>\n",
       "    </tr>\n",
       "    <tr>\n",
       "      <th>3</th>\n",
       "      <td>-1.337818</td>\n",
       "      <td>1.038503</td>\n",
       "      <td>1.856182</td>\n",
       "      <td>-0.624215</td>\n",
       "      <td>-0.722399</td>\n",
       "      <td>-0.766028</td>\n",
       "      <td>-0.733781</td>\n",
       "      <td>0.932968</td>\n",
       "      <td>1.165100</td>\n",
       "      <td>-0.681889</td>\n",
       "      <td>-0.015566</td>\n",
       "      <td>2.830742</td>\n",
       "      <td>-0.384466</td>\n",
       "    </tr>\n",
       "    <tr>\n",
       "      <th>4</th>\n",
       "      <td>-1.337818</td>\n",
       "      <td>1.038503</td>\n",
       "      <td>1.856182</td>\n",
       "      <td>-0.462404</td>\n",
       "      <td>-0.615066</td>\n",
       "      <td>-0.759847</td>\n",
       "      <td>-0.629157</td>\n",
       "      <td>-0.012881</td>\n",
       "      <td>1.172900</td>\n",
       "      <td>-0.681889</td>\n",
       "      <td>-0.015566</td>\n",
       "      <td>2.830742</td>\n",
       "      <td>-0.384466</td>\n",
       "    </tr>\n",
       "  </tbody>\n",
       "</table>\n",
       "</div>"
      ],
      "text/plain": [
       "   longitude  latitude  housing_median_age  total_rooms  total_bedrooms  \\\n",
       "0  -1.327835  1.052548            0.982143    -0.804819       -0.975228   \n",
       "1  -1.322844  1.043185           -0.607019     2.045890        1.355088   \n",
       "2  -1.332827  1.038503            1.856182    -0.535746       -0.829732   \n",
       "3  -1.337818  1.038503            1.856182    -0.624215       -0.722399   \n",
       "4  -1.337818  1.038503            1.856182    -0.462404       -0.615066   \n",
       "\n",
       "   population  households  median_income  median_house_value  \\\n",
       "0   -0.974429   -0.977033       2.344766            2.129631   \n",
       "1    0.861439    1.669961       2.332238            1.314156   \n",
       "2   -0.820777   -0.843637       1.782699            1.258693   \n",
       "3   -0.766028   -0.733781       0.932968            1.165100   \n",
       "4   -0.759847   -0.629157      -0.012881            1.172900   \n",
       "\n",
       "   ocean_proximity_INLAND  ocean_proximity_ISLAND  ocean_proximity_NEAR BAY  \\\n",
       "0               -0.681889               -0.015566                  2.830742   \n",
       "1               -0.681889               -0.015566                  2.830742   \n",
       "2               -0.681889               -0.015566                  2.830742   \n",
       "3               -0.681889               -0.015566                  2.830742   \n",
       "4               -0.681889               -0.015566                  2.830742   \n",
       "\n",
       "   ocean_proximity_NEAR OCEAN  \n",
       "0                   -0.384466  \n",
       "1                   -0.384466  \n",
       "2                   -0.384466  \n",
       "3                   -0.384466  \n",
       "4                   -0.384466  "
      ]
     },
     "execution_count": 15,
     "metadata": {},
     "output_type": "execute_result"
    }
   ],
   "source": [
    "# Standardize training and test datasets.\n",
    "#import scalar \n",
    "from sklearn.preprocessing import StandardScaler\n",
    "# column names\n",
    "names = df.columns\n",
    "\n",
    "# Create the Scaler object\n",
    "scaler = StandardScaler()\n",
    "\n",
    "# Fit your data to scaler object\n",
    "scaled_df = scaler.fit_transform(df)\n",
    "scaled_df = pd.DataFrame(scaled_df, columns=names)\n",
    "scaled_df.head()"
   ]
  },
  {
   "cell_type": "markdown",
   "metadata": {},
   "source": [
    "## 5. Visualize relationship between features/independent variables and target :"
   ]
  },
  {
   "cell_type": "code",
   "execution_count": 16,
   "metadata": {},
   "outputs": [
    {
     "data": {
      "image/png": "[encoded data removed]",
      "text/plain": [
       "<Figure size 432x288 with 1 Axes>"
      ]
     },
     "metadata": {
      "needs_background": "light"
     },
     "output_type": "display_data"
    },
    {
     "data": {
      "image/png": "[encoded data removed]",
      "text/plain": [
       "<Figure size 432x288 with 1 Axes>"
      ]
     },
     "metadata": {
      "needs_background": "light"
     },
     "output_type": "display_data"
    },
    {
     "data": {
      "image/png": "[encoded data removed]",
      "text/plain": [
       "<Figure size 432x288 with 1 Axes>"
      ]
     },
     "metadata": {
      "needs_background": "light"
     },
     "output_type": "display_data"
    },
    {
     "data": {
      "image/png": "[encoded data removed]",
      "text/plain": [
       "<Figure size 432x288 with 1 Axes>"
      ]
     },
     "metadata": {
      "needs_background": "light"
     },
     "output_type": "display_data"
    },
    {
     "data": {
      "image/png": "[encoded data removed]",
      "text/plain": [
       "<Figure size 432x288 with 1 Axes>"
      ]
     },
     "metadata": {
      "needs_background": "light"
     },
     "output_type": "display_data"
    },
    {
     "data": {
      "image/png": "[encoded data removed]",
      "text/plain": [
       "<Figure size 432x288 with 1 Axes>"
      ]
     },
     "metadata": {
      "needs_background": "light"
     },
     "output_type": "display_data"
    },
    {
     "data": {
      "image/png": "[encoded data removed]",
      "text/plain": [
       "<Figure size 432x288 with 1 Axes>"
      ]
     },
     "metadata": {
      "needs_background": "light"
     },
     "output_type": "display_data"
    },
    {
     "data": {
      "image/png": "[encoded data removed]",
      "text/plain": [
       "<Figure size 432x288 with 1 Axes>"
      ]
     },
     "metadata": {
      "needs_background": "light"
     },
     "output_type": "display_data"
    },
    {
     "data": {
      "image/png": "[encoded data removed]",
      "text/plain": [
       "<Figure size 432x288 with 1 Axes>"
      ]
     },
     "metadata": {
      "needs_background": "light"
     },
     "output_type": "display_data"
    },
    {
     "data": {
      "image/png": "[encoded data removed]",
      "text/plain": [
       "<Figure size 432x288 with 1 Axes>"
      ]
     },
     "metadata": {
      "needs_background": "light"
     },
     "output_type": "display_data"
    },
    {
     "data": {
      "image/png": "[encoded data removed]",
      "text/plain": [
       "<Figure size 432x288 with 1 Axes>"
      ]
     },
     "metadata": {
      "needs_background": "light"
     },
     "output_type": "display_data"
    },
    {
     "data": {
      "image/png": "[encoded data removed]",
      "text/plain": [
       "<Figure size 432x288 with 1 Axes>"
      ]
     },
     "metadata": {
      "needs_background": "light"
     },
     "output_type": "display_data"
    },
    {
     "data": {
      "image/png": "[encoded data removed]",
      "text/plain": [
       "<Figure size 432x288 with 1 Axes>"
      ]
     },
     "metadata": {
      "needs_background": "light"
     },
     "output_type": "display_data"
    }
   ],
   "source": [
    "# Create boxplot and check outliers\n",
    "for column in scaled_df:\n",
    "    plt.figure()\n",
    "    sns.boxplot(x=scaled_df[column])"
   ]
  },
  {
   "cell_type": "code",
   "execution_count": 17,
   "metadata": {},
   "outputs": [
    {
     "data": {
      "image/png": "[encoded data removed]",
      "text/plain": [
       "<Figure size 540x180 with 3 Axes>"
      ]
     },
     "metadata": {
      "needs_background": "light"
     },
     "output_type": "display_data"
    },
    {
     "data": {
      "image/png": "[encoded data removed]",
      "text/plain": [
       "<Figure size 540x180 with 3 Axes>"
      ]
     },
     "metadata": {
      "needs_background": "light"
     },
     "output_type": "display_data"
    },
    {
     "data": {
      "image/png": "[encoded data removed]",
      "text/plain": [
       "<Figure size 360x180 with 2 Axes>"
      ]
     },
     "metadata": {
      "needs_background": "light"
     },
     "output_type": "display_data"
    }
   ],
   "source": [
    "# Visualize relationship between features and target\n",
    "# lets create a graphs to visulize the relationship between indenpedent variables and target.\n",
    "sns.pairplot(scaled_df , x_vars=['longitude','latitude', 'housing_median_age'], y_vars= 'median_house_value')\n",
    "plt.show()\n",
    "sns.pairplot(scaled_df , x_vars=['total_rooms','total_bedrooms', 'population'], y_vars= 'median_house_value')\n",
    "plt.show()\n",
    "sns.pairplot(scaled_df , x_vars=['households','median_income'], y_vars= 'median_house_value')\n",
    "plt.show()"
   ]
  },
  {
   "cell_type": "markdown",
   "metadata": {},
   "source": [
    "#### Remarks:"
   ]
  },
  {
   "cell_type": "raw",
   "metadata": {},
   "source": [
    "Observed the linear relationship between the median_income and median_house_value from the above graphs. "
   ]
  },
  {
   "cell_type": "code",
   "execution_count": 18,
   "metadata": {},
   "outputs": [
    {
     "data": {
      "text/html": [
       "<div>\n",
       "<style scoped>\n",
       "    .dataframe tbody tr th:only-of-type {\n",
       "        vertical-align: middle;\n",
       "    }\n",
       "\n",
       "    .dataframe tbody tr th {\n",
       "        vertical-align: top;\n",
       "    }\n",
       "\n",
       "    .dataframe thead th {\n",
       "        text-align: right;\n",
       "    }\n",
       "</style>\n",
       "<table border=\"1\" class=\"dataframe\">\n",
       "  <thead>\n",
       "    <tr style=\"text-align: right;\">\n",
       "      <th></th>\n",
       "      <th>longitude</th>\n",
       "      <th>latitude</th>\n",
       "      <th>housing_median_age</th>\n",
       "      <th>total_rooms</th>\n",
       "      <th>total_bedrooms</th>\n",
       "      <th>population</th>\n",
       "      <th>households</th>\n",
       "      <th>median_income</th>\n",
       "      <th>median_house_value</th>\n",
       "      <th>ocean_proximity_INLAND</th>\n",
       "      <th>ocean_proximity_ISLAND</th>\n",
       "      <th>ocean_proximity_NEAR BAY</th>\n",
       "      <th>ocean_proximity_NEAR OCEAN</th>\n",
       "    </tr>\n",
       "  </thead>\n",
       "  <tbody>\n",
       "    <tr>\n",
       "      <th>longitude</th>\n",
       "      <td>1.000000</td>\n",
       "      <td>-0.924664</td>\n",
       "      <td>-0.108197</td>\n",
       "      <td>0.044568</td>\n",
       "      <td>0.069260</td>\n",
       "      <td>0.099773</td>\n",
       "      <td>0.055310</td>\n",
       "      <td>-0.015176</td>\n",
       "      <td>-0.045967</td>\n",
       "      <td>-0.055575</td>\n",
       "      <td>0.009446</td>\n",
       "      <td>-0.474489</td>\n",
       "      <td>0.045509</td>\n",
       "    </tr>\n",
       "    <tr>\n",
       "      <th>latitude</th>\n",
       "      <td>-0.924664</td>\n",
       "      <td>1.000000</td>\n",
       "      <td>0.011173</td>\n",
       "      <td>-0.036100</td>\n",
       "      <td>-0.066658</td>\n",
       "      <td>-0.108785</td>\n",
       "      <td>-0.071035</td>\n",
       "      <td>-0.079809</td>\n",
       "      <td>-0.144160</td>\n",
       "      <td>0.351166</td>\n",
       "      <td>-0.016572</td>\n",
       "      <td>0.358771</td>\n",
       "      <td>-0.160818</td>\n",
       "    </tr>\n",
       "    <tr>\n",
       "      <th>housing_median_age</th>\n",
       "      <td>-0.108197</td>\n",
       "      <td>0.011173</td>\n",
       "      <td>1.000000</td>\n",
       "      <td>-0.361262</td>\n",
       "      <td>-0.318998</td>\n",
       "      <td>-0.296244</td>\n",
       "      <td>-0.302916</td>\n",
       "      <td>-0.119034</td>\n",
       "      <td>0.105623</td>\n",
       "      <td>-0.236645</td>\n",
       "      <td>0.017020</td>\n",
       "      <td>0.255172</td>\n",
       "      <td>0.021622</td>\n",
       "    </tr>\n",
       "    <tr>\n",
       "      <th>total_rooms</th>\n",
       "      <td>0.044568</td>\n",
       "      <td>-0.036100</td>\n",
       "      <td>-0.361262</td>\n",
       "      <td>1.000000</td>\n",
       "      <td>0.927253</td>\n",
       "      <td>0.857126</td>\n",
       "      <td>0.918484</td>\n",
       "      <td>0.198050</td>\n",
       "      <td>0.134153</td>\n",
       "      <td>0.025624</td>\n",
       "      <td>-0.007572</td>\n",
       "      <td>-0.023022</td>\n",
       "      <td>-0.009175</td>\n",
       "    </tr>\n",
       "    <tr>\n",
       "      <th>total_bedrooms</th>\n",
       "      <td>0.069260</td>\n",
       "      <td>-0.066658</td>\n",
       "      <td>-0.318998</td>\n",
       "      <td>0.927253</td>\n",
       "      <td>1.000000</td>\n",
       "      <td>0.873910</td>\n",
       "      <td>0.974725</td>\n",
       "      <td>-0.007682</td>\n",
       "      <td>0.049454</td>\n",
       "      <td>-0.006433</td>\n",
       "      <td>-0.004361</td>\n",
       "      <td>-0.019785</td>\n",
       "      <td>0.000676</td>\n",
       "    </tr>\n",
       "    <tr>\n",
       "      <th>population</th>\n",
       "      <td>0.099773</td>\n",
       "      <td>-0.108785</td>\n",
       "      <td>-0.296244</td>\n",
       "      <td>0.857126</td>\n",
       "      <td>0.873910</td>\n",
       "      <td>1.000000</td>\n",
       "      <td>0.907222</td>\n",
       "      <td>0.004834</td>\n",
       "      <td>-0.024650</td>\n",
       "      <td>-0.020732</td>\n",
       "      <td>-0.010412</td>\n",
       "      <td>-0.060880</td>\n",
       "      <td>-0.024264</td>\n",
       "    </tr>\n",
       "    <tr>\n",
       "      <th>households</th>\n",
       "      <td>0.055310</td>\n",
       "      <td>-0.071035</td>\n",
       "      <td>-0.302916</td>\n",
       "      <td>0.918484</td>\n",
       "      <td>0.974725</td>\n",
       "      <td>0.907222</td>\n",
       "      <td>1.000000</td>\n",
       "      <td>0.013033</td>\n",
       "      <td>0.065843</td>\n",
       "      <td>-0.039402</td>\n",
       "      <td>-0.009077</td>\n",
       "      <td>-0.010093</td>\n",
       "      <td>0.001714</td>\n",
       "    </tr>\n",
       "    <tr>\n",
       "      <th>median_income</th>\n",
       "      <td>-0.015176</td>\n",
       "      <td>-0.079809</td>\n",
       "      <td>-0.119034</td>\n",
       "      <td>0.198050</td>\n",
       "      <td>-0.007682</td>\n",
       "      <td>0.004834</td>\n",
       "      <td>0.013033</td>\n",
       "      <td>1.000000</td>\n",
       "      <td>0.688075</td>\n",
       "      <td>-0.237496</td>\n",
       "      <td>-0.009228</td>\n",
       "      <td>0.056197</td>\n",
       "      <td>0.027344</td>\n",
       "    </tr>\n",
       "    <tr>\n",
       "      <th>median_house_value</th>\n",
       "      <td>-0.045967</td>\n",
       "      <td>-0.144160</td>\n",
       "      <td>0.105623</td>\n",
       "      <td>0.134153</td>\n",
       "      <td>0.049454</td>\n",
       "      <td>-0.024650</td>\n",
       "      <td>0.065843</td>\n",
       "      <td>0.688075</td>\n",
       "      <td>1.000000</td>\n",
       "      <td>-0.484859</td>\n",
       "      <td>0.023416</td>\n",
       "      <td>0.160284</td>\n",
       "      <td>0.141862</td>\n",
       "    </tr>\n",
       "    <tr>\n",
       "      <th>ocean_proximity_INLAND</th>\n",
       "      <td>-0.055575</td>\n",
       "      <td>0.351166</td>\n",
       "      <td>-0.236645</td>\n",
       "      <td>0.025624</td>\n",
       "      <td>-0.006433</td>\n",
       "      <td>-0.020732</td>\n",
       "      <td>-0.039402</td>\n",
       "      <td>-0.237496</td>\n",
       "      <td>-0.484859</td>\n",
       "      <td>1.000000</td>\n",
       "      <td>-0.010614</td>\n",
       "      <td>-0.240887</td>\n",
       "      <td>-0.262163</td>\n",
       "    </tr>\n",
       "    <tr>\n",
       "      <th>ocean_proximity_ISLAND</th>\n",
       "      <td>0.009446</td>\n",
       "      <td>-0.016572</td>\n",
       "      <td>0.017020</td>\n",
       "      <td>-0.007572</td>\n",
       "      <td>-0.004361</td>\n",
       "      <td>-0.010412</td>\n",
       "      <td>-0.009077</td>\n",
       "      <td>-0.009228</td>\n",
       "      <td>0.023416</td>\n",
       "      <td>-0.010614</td>\n",
       "      <td>1.000000</td>\n",
       "      <td>-0.005499</td>\n",
       "      <td>-0.005985</td>\n",
       "    </tr>\n",
       "    <tr>\n",
       "      <th>ocean_proximity_NEAR BAY</th>\n",
       "      <td>-0.474489</td>\n",
       "      <td>0.358771</td>\n",
       "      <td>0.255172</td>\n",
       "      <td>-0.023022</td>\n",
       "      <td>-0.019785</td>\n",
       "      <td>-0.060880</td>\n",
       "      <td>-0.010093</td>\n",
       "      <td>0.056197</td>\n",
       "      <td>0.160284</td>\n",
       "      <td>-0.240887</td>\n",
       "      <td>-0.005499</td>\n",
       "      <td>1.000000</td>\n",
       "      <td>-0.135818</td>\n",
       "    </tr>\n",
       "    <tr>\n",
       "      <th>ocean_proximity_NEAR OCEAN</th>\n",
       "      <td>0.045509</td>\n",
       "      <td>-0.160818</td>\n",
       "      <td>0.021622</td>\n",
       "      <td>-0.009175</td>\n",
       "      <td>0.000676</td>\n",
       "      <td>-0.024264</td>\n",
       "      <td>0.001714</td>\n",
       "      <td>0.027344</td>\n",
       "      <td>0.141862</td>\n",
       "      <td>-0.262163</td>\n",
       "      <td>-0.005985</td>\n",
       "      <td>-0.135818</td>\n",
       "      <td>1.000000</td>\n",
       "    </tr>\n",
       "  </tbody>\n",
       "</table>\n",
       "</div>"
      ],
      "text/plain": [
       "                            longitude  latitude  housing_median_age  \\\n",
       "longitude                    1.000000 -0.924664           -0.108197   \n",
       "latitude                    -0.924664  1.000000            0.011173   \n",
       "housing_median_age          -0.108197  0.011173            1.000000   \n",
       "total_rooms                  0.044568 -0.036100           -0.361262   \n",
       "total_bedrooms               0.069260 -0.066658           -0.318998   \n",
       "population                   0.099773 -0.108785           -0.296244   \n",
       "households                   0.055310 -0.071035           -0.302916   \n",
       "median_income               -0.015176 -0.079809           -0.119034   \n",
       "median_house_value          -0.045967 -0.144160            0.105623   \n",
       "ocean_proximity_INLAND      -0.055575  0.351166           -0.236645   \n",
       "ocean_proximity_ISLAND       0.009446 -0.016572            0.017020   \n",
       "ocean_proximity_NEAR BAY    -0.474489  0.358771            0.255172   \n",
       "ocean_proximity_NEAR OCEAN   0.045509 -0.160818            0.021622   \n",
       "\n",
       "                            total_rooms  total_bedrooms  population  \\\n",
       "longitude                      0.044568        0.069260    0.099773   \n",
       "latitude                      -0.036100       -0.066658   -0.108785   \n",
       "housing_median_age            -0.361262       -0.318998   -0.296244   \n",
       "total_rooms                    1.000000        0.927253    0.857126   \n",
       "total_bedrooms                 0.927253        1.000000    0.873910   \n",
       "population                     0.857126        0.873910    1.000000   \n",
       "households                     0.918484        0.974725    0.907222   \n",
       "median_income                  0.198050       -0.007682    0.004834   \n",
       "median_house_value             0.134153        0.049454   -0.024650   \n",
       "ocean_proximity_INLAND         0.025624       -0.006433   -0.020732   \n",
       "ocean_proximity_ISLAND        -0.007572       -0.004361   -0.010412   \n",
       "ocean_proximity_NEAR BAY      -0.023022       -0.019785   -0.060880   \n",
       "ocean_proximity_NEAR OCEAN    -0.009175        0.000676   -0.024264   \n",
       "\n",
       "                            households  median_income  median_house_value  \\\n",
       "longitude                     0.055310      -0.015176           -0.045967   \n",
       "latitude                     -0.071035      -0.079809           -0.144160   \n",
       "housing_median_age           -0.302916      -0.119034            0.105623   \n",
       "total_rooms                   0.918484       0.198050            0.134153   \n",
       "total_bedrooms                0.974725      -0.007682            0.049454   \n",
       "population                    0.907222       0.004834           -0.024650   \n",
       "households                    1.000000       0.013033            0.065843   \n",
       "median_income                 0.013033       1.000000            0.688075   \n",
       "median_house_value            0.065843       0.688075            1.000000   \n",
       "ocean_proximity_INLAND       -0.039402      -0.237496           -0.484859   \n",
       "ocean_proximity_ISLAND       -0.009077      -0.009228            0.023416   \n",
       "ocean_proximity_NEAR BAY     -0.010093       0.056197            0.160284   \n",
       "ocean_proximity_NEAR OCEAN    0.001714       0.027344            0.141862   \n",
       "\n",
       "                            ocean_proximity_INLAND  ocean_proximity_ISLAND  \\\n",
       "longitude                                -0.055575                0.009446   \n",
       "latitude                                  0.351166               -0.016572   \n",
       "housing_median_age                       -0.236645                0.017020   \n",
       "total_rooms                               0.025624               -0.007572   \n",
       "total_bedrooms                           -0.006433               -0.004361   \n",
       "population                               -0.020732               -0.010412   \n",
       "households                               -0.039402               -0.009077   \n",
       "median_income                            -0.237496               -0.009228   \n",
       "median_house_value                       -0.484859                0.023416   \n",
       "ocean_proximity_INLAND                    1.000000               -0.010614   \n",
       "ocean_proximity_ISLAND                   -0.010614                1.000000   \n",
       "ocean_proximity_NEAR BAY                 -0.240887               -0.005499   \n",
       "ocean_proximity_NEAR OCEAN               -0.262163               -0.005985   \n",
       "\n",
       "                            ocean_proximity_NEAR BAY  \\\n",
       "longitude                                  -0.474489   \n",
       "latitude                                    0.358771   \n",
       "housing_median_age                          0.255172   \n",
       "total_rooms                                -0.023022   \n",
       "total_bedrooms                             -0.019785   \n",
       "population                                 -0.060880   \n",
       "households                                 -0.010093   \n",
       "median_income                               0.056197   \n",
       "median_house_value                          0.160284   \n",
       "ocean_proximity_INLAND                     -0.240887   \n",
       "ocean_proximity_ISLAND                     -0.005499   \n",
       "ocean_proximity_NEAR BAY                    1.000000   \n",
       "ocean_proximity_NEAR OCEAN                 -0.135818   \n",
       "\n",
       "                            ocean_proximity_NEAR OCEAN  \n",
       "longitude                                     0.045509  \n",
       "latitude                                     -0.160818  \n",
       "housing_median_age                            0.021622  \n",
       "total_rooms                                  -0.009175  \n",
       "total_bedrooms                                0.000676  \n",
       "population                                   -0.024264  \n",
       "households                                    0.001714  \n",
       "median_income                                 0.027344  \n",
       "median_house_value                            0.141862  \n",
       "ocean_proximity_INLAND                       -0.262163  \n",
       "ocean_proximity_ISLAND                       -0.005985  \n",
       "ocean_proximity_NEAR BAY                     -0.135818  \n",
       "ocean_proximity_NEAR OCEAN                    1.000000  "
      ]
     },
     "execution_count": 18,
     "metadata": {},
     "output_type": "execute_result"
    }
   ],
   "source": [
    "# compute correlations dataframe in order to visualize the correlations amoung variabels through heatmap.\n",
    "corr_df = df.corr()\n",
    "corr_df"
   ]
  },
  {
   "cell_type": "code",
   "execution_count": 19,
   "metadata": {},
   "outputs": [
    {
     "data": {
      "text/plain": [
       "<AxesSubplot:>"
      ]
     },
     "execution_count": 19,
     "metadata": {},
     "output_type": "execute_result"
    },
    {
     "data": {
      "image/png": "[encoded data removed]",
      "text/plain": [
       "<Figure size 432x288 with 2 Axes>"
      ]
     },
     "metadata": {
      "needs_background": "light"
     },
     "output_type": "display_data"
    }
   ],
   "source": [
    "#create heatmap to visulaize the correlations between variables\n",
    "sns.heatmap(corr_df, annot= True)"
   ]
  },
  {
   "cell_type": "markdown",
   "metadata": {},
   "source": [
    "# 6.  Extract feature (X) and target (y) :"
   ]
  },
  {
   "cell_type": "code",
   "execution_count": 20,
   "metadata": {},
   "outputs": [],
   "source": [
    "y=scaled_df.median_house_value"
   ]
  },
  {
   "cell_type": "code",
   "execution_count": 21,
   "metadata": {},
   "outputs": [
    {
     "data": {
      "text/plain": [
       "0        2.129631\n",
       "1        1.314156\n",
       "2        1.258693\n",
       "3        1.165100\n",
       "4        1.172900\n",
       "           ...   \n",
       "20635   -1.115804\n",
       "20636   -1.124470\n",
       "20637   -0.992746\n",
       "20638   -1.058608\n",
       "20639   -1.017878\n",
       "Name: median_house_value, Length: 20640, dtype: float64"
      ]
     },
     "execution_count": 21,
     "metadata": {},
     "output_type": "execute_result"
    }
   ],
   "source": [
    "y"
   ]
  },
  {
   "cell_type": "code",
   "execution_count": 22,
   "metadata": {},
   "outputs": [
    {
     "data": {
      "text/html": [
       "<div>\n",
       "<style scoped>\n",
       "    .dataframe tbody tr th:only-of-type {\n",
       "        vertical-align: middle;\n",
       "    }\n",
       "\n",
       "    .dataframe tbody tr th {\n",
       "        vertical-align: top;\n",
       "    }\n",
       "\n",
       "    .dataframe thead th {\n",
       "        text-align: right;\n",
       "    }\n",
       "</style>\n",
       "<table border=\"1\" class=\"dataframe\">\n",
       "  <thead>\n",
       "    <tr style=\"text-align: right;\">\n",
       "      <th></th>\n",
       "      <th>longitude</th>\n",
       "      <th>latitude</th>\n",
       "      <th>housing_median_age</th>\n",
       "      <th>total_rooms</th>\n",
       "      <th>total_bedrooms</th>\n",
       "      <th>population</th>\n",
       "      <th>households</th>\n",
       "      <th>median_income</th>\n",
       "      <th>ocean_proximity_INLAND</th>\n",
       "      <th>ocean_proximity_ISLAND</th>\n",
       "      <th>ocean_proximity_NEAR BAY</th>\n",
       "      <th>ocean_proximity_NEAR OCEAN</th>\n",
       "    </tr>\n",
       "  </thead>\n",
       "  <tbody>\n",
       "    <tr>\n",
       "      <th>0</th>\n",
       "      <td>-1.327835</td>\n",
       "      <td>1.052548</td>\n",
       "      <td>0.982143</td>\n",
       "      <td>-0.804819</td>\n",
       "      <td>-0.975228</td>\n",
       "      <td>-0.974429</td>\n",
       "      <td>-0.977033</td>\n",
       "      <td>2.344766</td>\n",
       "      <td>-0.681889</td>\n",
       "      <td>-0.015566</td>\n",
       "      <td>2.830742</td>\n",
       "      <td>-0.384466</td>\n",
       "    </tr>\n",
       "    <tr>\n",
       "      <th>1</th>\n",
       "      <td>-1.322844</td>\n",
       "      <td>1.043185</td>\n",
       "      <td>-0.607019</td>\n",
       "      <td>2.045890</td>\n",
       "      <td>1.355088</td>\n",
       "      <td>0.861439</td>\n",
       "      <td>1.669961</td>\n",
       "      <td>2.332238</td>\n",
       "      <td>-0.681889</td>\n",
       "      <td>-0.015566</td>\n",
       "      <td>2.830742</td>\n",
       "      <td>-0.384466</td>\n",
       "    </tr>\n",
       "    <tr>\n",
       "      <th>2</th>\n",
       "      <td>-1.332827</td>\n",
       "      <td>1.038503</td>\n",
       "      <td>1.856182</td>\n",
       "      <td>-0.535746</td>\n",
       "      <td>-0.829732</td>\n",
       "      <td>-0.820777</td>\n",
       "      <td>-0.843637</td>\n",
       "      <td>1.782699</td>\n",
       "      <td>-0.681889</td>\n",
       "      <td>-0.015566</td>\n",
       "      <td>2.830742</td>\n",
       "      <td>-0.384466</td>\n",
       "    </tr>\n",
       "    <tr>\n",
       "      <th>3</th>\n",
       "      <td>-1.337818</td>\n",
       "      <td>1.038503</td>\n",
       "      <td>1.856182</td>\n",
       "      <td>-0.624215</td>\n",
       "      <td>-0.722399</td>\n",
       "      <td>-0.766028</td>\n",
       "      <td>-0.733781</td>\n",
       "      <td>0.932968</td>\n",
       "      <td>-0.681889</td>\n",
       "      <td>-0.015566</td>\n",
       "      <td>2.830742</td>\n",
       "      <td>-0.384466</td>\n",
       "    </tr>\n",
       "    <tr>\n",
       "      <th>4</th>\n",
       "      <td>-1.337818</td>\n",
       "      <td>1.038503</td>\n",
       "      <td>1.856182</td>\n",
       "      <td>-0.462404</td>\n",
       "      <td>-0.615066</td>\n",
       "      <td>-0.759847</td>\n",
       "      <td>-0.629157</td>\n",
       "      <td>-0.012881</td>\n",
       "      <td>-0.681889</td>\n",
       "      <td>-0.015566</td>\n",
       "      <td>2.830742</td>\n",
       "      <td>-0.384466</td>\n",
       "    </tr>\n",
       "    <tr>\n",
       "      <th>...</th>\n",
       "      <td>...</td>\n",
       "      <td>...</td>\n",
       "      <td>...</td>\n",
       "      <td>...</td>\n",
       "      <td>...</td>\n",
       "      <td>...</td>\n",
       "      <td>...</td>\n",
       "      <td>...</td>\n",
       "      <td>...</td>\n",
       "      <td>...</td>\n",
       "      <td>...</td>\n",
       "      <td>...</td>\n",
       "    </tr>\n",
       "    <tr>\n",
       "      <th>20635</th>\n",
       "      <td>-0.758826</td>\n",
       "      <td>1.801647</td>\n",
       "      <td>-0.289187</td>\n",
       "      <td>-0.444985</td>\n",
       "      <td>-0.390860</td>\n",
       "      <td>-0.512592</td>\n",
       "      <td>-0.443449</td>\n",
       "      <td>-1.216128</td>\n",
       "      <td>1.466514</td>\n",
       "      <td>-0.015566</td>\n",
       "      <td>-0.353264</td>\n",
       "      <td>-0.384466</td>\n",
       "    </tr>\n",
       "    <tr>\n",
       "      <th>20636</th>\n",
       "      <td>-0.818722</td>\n",
       "      <td>1.806329</td>\n",
       "      <td>-0.845393</td>\n",
       "      <td>-0.888704</td>\n",
       "      <td>-0.925139</td>\n",
       "      <td>-0.944405</td>\n",
       "      <td>-1.008420</td>\n",
       "      <td>-0.691593</td>\n",
       "      <td>1.466514</td>\n",
       "      <td>-0.015566</td>\n",
       "      <td>-0.353264</td>\n",
       "      <td>-0.384466</td>\n",
       "    </tr>\n",
       "    <tr>\n",
       "      <th>20637</th>\n",
       "      <td>-0.823713</td>\n",
       "      <td>1.778237</td>\n",
       "      <td>-0.924851</td>\n",
       "      <td>-0.174995</td>\n",
       "      <td>-0.126106</td>\n",
       "      <td>-0.369537</td>\n",
       "      <td>-0.174042</td>\n",
       "      <td>-1.142593</td>\n",
       "      <td>1.466514</td>\n",
       "      <td>-0.015566</td>\n",
       "      <td>-0.353264</td>\n",
       "      <td>-0.384466</td>\n",
       "    </tr>\n",
       "    <tr>\n",
       "      <th>20638</th>\n",
       "      <td>-0.873626</td>\n",
       "      <td>1.778237</td>\n",
       "      <td>-0.845393</td>\n",
       "      <td>-0.355600</td>\n",
       "      <td>-0.307379</td>\n",
       "      <td>-0.604429</td>\n",
       "      <td>-0.393753</td>\n",
       "      <td>-1.054583</td>\n",
       "      <td>1.466514</td>\n",
       "      <td>-0.015566</td>\n",
       "      <td>-0.353264</td>\n",
       "      <td>-0.384466</td>\n",
       "    </tr>\n",
       "    <tr>\n",
       "      <th>20639</th>\n",
       "      <td>-0.833696</td>\n",
       "      <td>1.750146</td>\n",
       "      <td>-1.004309</td>\n",
       "      <td>0.068408</td>\n",
       "      <td>0.186352</td>\n",
       "      <td>-0.033977</td>\n",
       "      <td>0.079672</td>\n",
       "      <td>-0.780129</td>\n",
       "      <td>1.466514</td>\n",
       "      <td>-0.015566</td>\n",
       "      <td>-0.353264</td>\n",
       "      <td>-0.384466</td>\n",
       "    </tr>\n",
       "  </tbody>\n",
       "</table>\n",
       "<p>20640 rows × 12 columns</p>\n",
       "</div>"
      ],
      "text/plain": [
       "       longitude  latitude  housing_median_age  total_rooms  total_bedrooms  \\\n",
       "0      -1.327835  1.052548            0.982143    -0.804819       -0.975228   \n",
       "1      -1.322844  1.043185           -0.607019     2.045890        1.355088   \n",
       "2      -1.332827  1.038503            1.856182    -0.535746       -0.829732   \n",
       "3      -1.337818  1.038503            1.856182    -0.624215       -0.722399   \n",
       "4      -1.337818  1.038503            1.856182    -0.462404       -0.615066   \n",
       "...          ...       ...                 ...          ...             ...   \n",
       "20635  -0.758826  1.801647           -0.289187    -0.444985       -0.390860   \n",
       "20636  -0.818722  1.806329           -0.845393    -0.888704       -0.925139   \n",
       "20637  -0.823713  1.778237           -0.924851    -0.174995       -0.126106   \n",
       "20638  -0.873626  1.778237           -0.845393    -0.355600       -0.307379   \n",
       "20639  -0.833696  1.750146           -1.004309     0.068408        0.186352   \n",
       "\n",
       "       population  households  median_income  ocean_proximity_INLAND  \\\n",
       "0       -0.974429   -0.977033       2.344766               -0.681889   \n",
       "1        0.861439    1.669961       2.332238               -0.681889   \n",
       "2       -0.820777   -0.843637       1.782699               -0.681889   \n",
       "3       -0.766028   -0.733781       0.932968               -0.681889   \n",
       "4       -0.759847   -0.629157      -0.012881               -0.681889   \n",
       "...           ...         ...            ...                     ...   \n",
       "20635   -0.512592   -0.443449      -1.216128                1.466514   \n",
       "20636   -0.944405   -1.008420      -0.691593                1.466514   \n",
       "20637   -0.369537   -0.174042      -1.142593                1.466514   \n",
       "20638   -0.604429   -0.393753      -1.054583                1.466514   \n",
       "20639   -0.033977    0.079672      -0.780129                1.466514   \n",
       "\n",
       "       ocean_proximity_ISLAND  ocean_proximity_NEAR BAY  \\\n",
       "0                   -0.015566                  2.830742   \n",
       "1                   -0.015566                  2.830742   \n",
       "2                   -0.015566                  2.830742   \n",
       "3                   -0.015566                  2.830742   \n",
       "4                   -0.015566                  2.830742   \n",
       "...                       ...                       ...   \n",
       "20635               -0.015566                 -0.353264   \n",
       "20636               -0.015566                 -0.353264   \n",
       "20637               -0.015566                 -0.353264   \n",
       "20638               -0.015566                 -0.353264   \n",
       "20639               -0.015566                 -0.353264   \n",
       "\n",
       "       ocean_proximity_NEAR OCEAN  \n",
       "0                       -0.384466  \n",
       "1                       -0.384466  \n",
       "2                       -0.384466  \n",
       "3                       -0.384466  \n",
       "4                       -0.384466  \n",
       "...                           ...  \n",
       "20635                   -0.384466  \n",
       "20636                   -0.384466  \n",
       "20637                   -0.384466  \n",
       "20638                   -0.384466  \n",
       "20639                   -0.384466  \n",
       "\n",
       "[20640 rows x 12 columns]"
      ]
     },
     "execution_count": 22,
     "metadata": {},
     "output_type": "execute_result"
    }
   ],
   "source": [
    "X=scaled_df.drop(['median_house_value'], axis = 1)\n",
    "X"
   ]
  },
  {
   "cell_type": "markdown",
   "metadata": {},
   "source": [
    "# 7.  Split the dataset : "
   ]
  },
  {
   "cell_type": "code",
   "execution_count": 23,
   "metadata": {},
   "outputs": [],
   "source": [
    "#import train_test_split\n",
    "from sklearn.model_selection import train_test_split\n",
    "# Split the data into 80% training dataset and 20% test dataset\n",
    "X_train, X_test , y_train, y_test = train_test_split(X, y, test_size=0.2, random_state= 123)"
   ]
  },
  {
   "cell_type": "code",
   "execution_count": 24,
   "metadata": {},
   "outputs": [
    {
     "data": {
      "text/html": [
       "<div>\n",
       "<style scoped>\n",
       "    .dataframe tbody tr th:only-of-type {\n",
       "        vertical-align: middle;\n",
       "    }\n",
       "\n",
       "    .dataframe tbody tr th {\n",
       "        vertical-align: top;\n",
       "    }\n",
       "\n",
       "    .dataframe thead th {\n",
       "        text-align: right;\n",
       "    }\n",
       "</style>\n",
       "<table border=\"1\" class=\"dataframe\">\n",
       "  <thead>\n",
       "    <tr style=\"text-align: right;\">\n",
       "      <th></th>\n",
       "      <th>longitude</th>\n",
       "      <th>latitude</th>\n",
       "      <th>housing_median_age</th>\n",
       "      <th>total_rooms</th>\n",
       "      <th>total_bedrooms</th>\n",
       "      <th>population</th>\n",
       "      <th>households</th>\n",
       "      <th>median_income</th>\n",
       "      <th>ocean_proximity_INLAND</th>\n",
       "      <th>ocean_proximity_ISLAND</th>\n",
       "      <th>ocean_proximity_NEAR BAY</th>\n",
       "      <th>ocean_proximity_NEAR OCEAN</th>\n",
       "    </tr>\n",
       "  </thead>\n",
       "  <tbody>\n",
       "    <tr>\n",
       "      <th>9950</th>\n",
       "      <td>-1.377748</td>\n",
       "      <td>1.286642</td>\n",
       "      <td>-0.050812</td>\n",
       "      <td>-0.740645</td>\n",
       "      <td>-8.798208e-01</td>\n",
       "      <td>-0.813713</td>\n",
       "      <td>-0.877640</td>\n",
       "      <td>0.367796</td>\n",
       "      <td>1.466514</td>\n",
       "      <td>-0.015566</td>\n",
       "      <td>-0.353264</td>\n",
       "      <td>-0.384466</td>\n",
       "    </tr>\n",
       "    <tr>\n",
       "      <th>3547</th>\n",
       "      <td>0.484009</td>\n",
       "      <td>-0.642287</td>\n",
       "      <td>-0.845393</td>\n",
       "      <td>1.612714</td>\n",
       "      <td>1.269222e+00</td>\n",
       "      <td>1.399218</td>\n",
       "      <td>1.397938</td>\n",
       "      <td>0.930915</td>\n",
       "      <td>-0.681889</td>\n",
       "      <td>-0.015566</td>\n",
       "      <td>-0.353264</td>\n",
       "      <td>-0.384466</td>\n",
       "    </tr>\n",
       "    <tr>\n",
       "      <th>4448</th>\n",
       "      <td>0.678670</td>\n",
       "      <td>-0.731243</td>\n",
       "      <td>1.458891</td>\n",
       "      <td>-0.591211</td>\n",
       "      <td>-3.693934e-01</td>\n",
       "      <td>0.023421</td>\n",
       "      <td>-0.336209</td>\n",
       "      <td>-1.127223</td>\n",
       "      <td>-0.681889</td>\n",
       "      <td>-0.015566</td>\n",
       "      <td>-0.353264</td>\n",
       "      <td>-0.384466</td>\n",
       "    </tr>\n",
       "    <tr>\n",
       "      <th>6984</th>\n",
       "      <td>0.773505</td>\n",
       "      <td>-0.782743</td>\n",
       "      <td>0.584852</td>\n",
       "      <td>-0.258880</td>\n",
       "      <td>-3.336158e-01</td>\n",
       "      <td>-0.386315</td>\n",
       "      <td>-0.249894</td>\n",
       "      <td>0.395799</td>\n",
       "      <td>-0.681889</td>\n",
       "      <td>-0.015566</td>\n",
       "      <td>-0.353264</td>\n",
       "      <td>-0.384466</td>\n",
       "    </tr>\n",
       "    <tr>\n",
       "      <th>4432</th>\n",
       "      <td>0.683662</td>\n",
       "      <td>-0.726561</td>\n",
       "      <td>1.617807</td>\n",
       "      <td>-0.603129</td>\n",
       "      <td>-5.458963e-01</td>\n",
       "      <td>-0.018082</td>\n",
       "      <td>-0.448680</td>\n",
       "      <td>-0.754390</td>\n",
       "      <td>-0.681889</td>\n",
       "      <td>-0.015566</td>\n",
       "      <td>-0.353264</td>\n",
       "      <td>-0.384466</td>\n",
       "    </tr>\n",
       "    <tr>\n",
       "      <th>...</th>\n",
       "      <td>...</td>\n",
       "      <td>...</td>\n",
       "      <td>...</td>\n",
       "      <td>...</td>\n",
       "      <td>...</td>\n",
       "      <td>...</td>\n",
       "      <td>...</td>\n",
       "      <td>...</td>\n",
       "      <td>...</td>\n",
       "      <td>...</td>\n",
       "      <td>...</td>\n",
       "      <td>...</td>\n",
       "    </tr>\n",
       "    <tr>\n",
       "      <th>7763</th>\n",
       "      <td>0.733575</td>\n",
       "      <td>-0.806152</td>\n",
       "      <td>0.584852</td>\n",
       "      <td>-0.875411</td>\n",
       "      <td>2.711630e-16</td>\n",
       "      <td>-0.826076</td>\n",
       "      <td>-0.966570</td>\n",
       "      <td>-0.121999</td>\n",
       "      <td>-0.681889</td>\n",
       "      <td>-0.015566</td>\n",
       "      <td>-0.353264</td>\n",
       "      <td>-0.384466</td>\n",
       "    </tr>\n",
       "    <tr>\n",
       "      <th>15377</th>\n",
       "      <td>1.162827</td>\n",
       "      <td>-1.058973</td>\n",
       "      <td>-1.163225</td>\n",
       "      <td>0.940260</td>\n",
       "      <td>6.085284e-01</td>\n",
       "      <td>0.892346</td>\n",
       "      <td>0.730958</td>\n",
       "      <td>0.351846</td>\n",
       "      <td>-0.681889</td>\n",
       "      <td>-0.015566</td>\n",
       "      <td>-0.353264</td>\n",
       "      <td>-0.384466</td>\n",
       "    </tr>\n",
       "    <tr>\n",
       "      <th>17730</th>\n",
       "      <td>-1.093244</td>\n",
       "      <td>0.795046</td>\n",
       "      <td>-1.878348</td>\n",
       "      <td>0.695482</td>\n",
       "      <td>4.320254e-01</td>\n",
       "      <td>0.891463</td>\n",
       "      <td>0.516479</td>\n",
       "      <td>0.926388</td>\n",
       "      <td>-0.681889</td>\n",
       "      <td>-0.015566</td>\n",
       "      <td>-0.353264</td>\n",
       "      <td>-0.384466</td>\n",
       "    </tr>\n",
       "    <tr>\n",
       "      <th>15725</th>\n",
       "      <td>-1.432653</td>\n",
       "      <td>1.005730</td>\n",
       "      <td>1.220517</td>\n",
       "      <td>-0.499992</td>\n",
       "      <td>-4.862670e-01</td>\n",
       "      <td>-0.763379</td>\n",
       "      <td>-0.453912</td>\n",
       "      <td>0.002279</td>\n",
       "      <td>-0.681889</td>\n",
       "      <td>-0.015566</td>\n",
       "      <td>2.830742</td>\n",
       "      <td>-0.384466</td>\n",
       "    </tr>\n",
       "    <tr>\n",
       "      <th>19966</th>\n",
       "      <td>0.244427</td>\n",
       "      <td>0.270677</td>\n",
       "      <td>-0.686477</td>\n",
       "      <td>-0.332222</td>\n",
       "      <td>-3.550823e-01</td>\n",
       "      <td>-0.162903</td>\n",
       "      <td>-0.396368</td>\n",
       "      <td>-0.713279</td>\n",
       "      <td>1.466514</td>\n",
       "      <td>-0.015566</td>\n",
       "      <td>-0.353264</td>\n",
       "      <td>-0.384466</td>\n",
       "    </tr>\n",
       "  </tbody>\n",
       "</table>\n",
       "<p>16512 rows × 12 columns</p>\n",
       "</div>"
      ],
      "text/plain": [
       "       longitude  latitude  housing_median_age  total_rooms  total_bedrooms  \\\n",
       "9950   -1.377748  1.286642           -0.050812    -0.740645   -8.798208e-01   \n",
       "3547    0.484009 -0.642287           -0.845393     1.612714    1.269222e+00   \n",
       "4448    0.678670 -0.731243            1.458891    -0.591211   -3.693934e-01   \n",
       "6984    0.773505 -0.782743            0.584852    -0.258880   -3.336158e-01   \n",
       "4432    0.683662 -0.726561            1.617807    -0.603129   -5.458963e-01   \n",
       "...          ...       ...                 ...          ...             ...   \n",
       "7763    0.733575 -0.806152            0.584852    -0.875411    2.711630e-16   \n",
       "15377   1.162827 -1.058973           -1.163225     0.940260    6.085284e-01   \n",
       "17730  -1.093244  0.795046           -1.878348     0.695482    4.320254e-01   \n",
       "15725  -1.432653  1.005730            1.220517    -0.499992   -4.862670e-01   \n",
       "19966   0.244427  0.270677           -0.686477    -0.332222   -3.550823e-01   \n",
       "\n",
       "       population  households  median_income  ocean_proximity_INLAND  \\\n",
       "9950    -0.813713   -0.877640       0.367796                1.466514   \n",
       "3547     1.399218    1.397938       0.930915               -0.681889   \n",
       "4448     0.023421   -0.336209      -1.127223               -0.681889   \n",
       "6984    -0.386315   -0.249894       0.395799               -0.681889   \n",
       "4432    -0.018082   -0.448680      -0.754390               -0.681889   \n",
       "...           ...         ...            ...                     ...   \n",
       "7763    -0.826076   -0.966570      -0.121999               -0.681889   \n",
       "15377    0.892346    0.730958       0.351846               -0.681889   \n",
       "17730    0.891463    0.516479       0.926388               -0.681889   \n",
       "15725   -0.763379   -0.453912       0.002279               -0.681889   \n",
       "19966   -0.162903   -0.396368      -0.713279                1.466514   \n",
       "\n",
       "       ocean_proximity_ISLAND  ocean_proximity_NEAR BAY  \\\n",
       "9950                -0.015566                 -0.353264   \n",
       "3547                -0.015566                 -0.353264   \n",
       "4448                -0.015566                 -0.353264   \n",
       "6984                -0.015566                 -0.353264   \n",
       "4432                -0.015566                 -0.353264   \n",
       "...                       ...                       ...   \n",
       "7763                -0.015566                 -0.353264   \n",
       "15377               -0.015566                 -0.353264   \n",
       "17730               -0.015566                 -0.353264   \n",
       "15725               -0.015566                  2.830742   \n",
       "19966               -0.015566                 -0.353264   \n",
       "\n",
       "       ocean_proximity_NEAR OCEAN  \n",
       "9950                    -0.384466  \n",
       "3547                    -0.384466  \n",
       "4448                    -0.384466  \n",
       "6984                    -0.384466  \n",
       "4432                    -0.384466  \n",
       "...                           ...  \n",
       "7763                    -0.384466  \n",
       "15377                   -0.384466  \n",
       "17730                   -0.384466  \n",
       "15725                   -0.384466  \n",
       "19966                   -0.384466  \n",
       "\n",
       "[16512 rows x 12 columns]"
      ]
     },
     "execution_count": 24,
     "metadata": {},
     "output_type": "execute_result"
    }
   ],
   "source": [
    "X_train"
   ]
  },
  {
   "cell_type": "code",
   "execution_count": 25,
   "metadata": {},
   "outputs": [
    {
     "name": "stdout",
     "output_type": "stream",
     "text": [
      "(16512, 12)\n",
      "(4128, 12)\n",
      "(16512,)\n",
      "(4128,)\n"
     ]
    }
   ],
   "source": [
    "#shape of the dataset\n",
    "print(X_train.shape)\n",
    "print(X_test.shape)\n",
    "print(y_train.shape)\n",
    "print(y_test.shape)"
   ]
  },
  {
   "cell_type": "markdown",
   "metadata": {},
   "source": [
    "# 8. Perform Linear Regression : "
   ]
  },
  {
   "cell_type": "code",
   "execution_count": 26,
   "metadata": {},
   "outputs": [],
   "source": [
    "# import LinearRegression\n",
    "from sklearn.linear_model import LinearRegression"
   ]
  },
  {
   "cell_type": "code",
   "execution_count": 27,
   "metadata": {},
   "outputs": [
    {
     "data": {
      "text/plain": [
       "LinearRegression()"
      ]
     },
     "execution_count": 27,
     "metadata": {},
     "output_type": "execute_result"
    }
   ],
   "source": [
    "# create Linear Regression model object\n",
    "lm = LinearRegression()\n",
    "lm"
   ]
  },
  {
   "cell_type": "code",
   "execution_count": 28,
   "metadata": {},
   "outputs": [
    {
     "data": {
      "text/plain": [
       "LinearRegression()"
      ]
     },
     "execution_count": 28,
     "metadata": {},
     "output_type": "execute_result"
    }
   ],
   "source": [
    "#fit the model\n",
    "lm.fit(X_train, y_train)"
   ]
  },
  {
   "cell_type": "code",
   "execution_count": 29,
   "metadata": {},
   "outputs": [
    {
     "name": "stdout",
     "output_type": "stream",
     "text": [
      "coef: [-0.45892485 -0.46738145  0.11176633 -0.07764728  0.26887704 -0.40850606\n",
      "  0.24980283  0.63699517 -0.16289793  0.0208157  -0.01789089  0.01182026]\n",
      "intercept: 0.0005162579123104241\n"
     ]
    }
   ],
   "source": [
    "print(\"coef: {}\".format(lm.coef_))\n",
    "print(\"intercept: {}\".format(lm.intercept_)) # y = (coef_)x+intecept_"
   ]
  },
  {
   "cell_type": "code",
   "execution_count": 30,
   "metadata": {},
   "outputs": [],
   "source": [
    "y_pred = lm.predict(X_test)"
   ]
  },
  {
   "cell_type": "code",
   "execution_count": 31,
   "metadata": {},
   "outputs": [
    {
     "data": {
      "text/plain": [
       "array([ 0.33465044, -0.65618011, -0.44221433, ..., -1.13808677,\n",
       "       -0.29731198,  0.86140753])"
      ]
     },
     "execution_count": 31,
     "metadata": {},
     "output_type": "execute_result"
    }
   ],
   "source": [
    "y_pred"
   ]
  },
  {
   "cell_type": "code",
   "execution_count": 32,
   "metadata": {},
   "outputs": [
    {
     "data": {
      "text/plain": [
       "19121   -0.478850\n",
       "20019   -0.932951\n",
       "15104   -0.627039\n",
       "3720     0.215301\n",
       "8938     2.218892\n",
       "           ...   \n",
       "313     -0.913885\n",
       "4596    -0.415588\n",
       "16287   -1.221530\n",
       "5771     0.088777\n",
       "18254    1.318489\n",
       "Name: median_house_value, Length: 4128, dtype: float64"
      ]
     },
     "execution_count": 32,
     "metadata": {},
     "output_type": "execute_result"
    }
   ],
   "source": [
    "y_test"
   ]
  },
  {
   "cell_type": "code",
   "execution_count": 33,
   "metadata": {},
   "outputs": [],
   "source": [
    "#import metrics from sklearn\n",
    "from sklearn import metrics"
   ]
  },
  {
   "cell_type": "code",
   "execution_count": 34,
   "metadata": {},
   "outputs": [
    {
     "name": "stdout",
     "output_type": "stream",
     "text": [
      "rmse: 0.5956353041797614\n",
      "r2_score: 0.6447553962168038\n",
      "9.7850646798111e-05\n"
     ]
    }
   ],
   "source": [
    "print(\"rmse: {}\".format(np.sqrt(metrics.mean_squared_error(y_test, y_pred))))\n",
    "print((\"r2_score: {}\".format(metrics.r2_score(y_test,y_pred))))\n",
    "## to quickly check how good is the rmse of our model ?\n",
    "## try to use this genric thumb rule : rmse <= 10% mean(target)\n",
    "print(0.1*y_train.mean())"
   ]
  },
  {
   "cell_type": "raw",
   "metadata": {},
   "source": [
    "- rmse of model is <= 10% mean(target) so model looks good.\n",
    "- r2_score is 64.4% refers the correlation between independent and dependent/target variables. If it is 100%, the two variables are perfectly correlated."
   ]
  },
  {
   "cell_type": "code",
   "execution_count": 35,
   "metadata": {},
   "outputs": [
    {
     "name": "stdout",
     "output_type": "stream",
     "text": [
      "                            OLS Regression Results                            \n",
      "==============================================================================\n",
      "Dep. Variable:     median_house_value   R-squared:                       0.645\n",
      "Model:                            OLS   Adj. R-squared:                  0.645\n",
      "Method:                 Least Squares   F-statistic:                     2502.\n",
      "Date:                Wed, 29 Dec 2021   Prob (F-statistic):               0.00\n",
      "Time:                        16:20:13   Log-Likelihood:                -14874.\n",
      "No. Observations:               16512   AIC:                         2.977e+04\n",
      "Df Residuals:                   16499   BIC:                         2.987e+04\n",
      "Df Model:                          12                                         \n",
      "Covariance Type:            nonrobust                                         \n",
      "==============================================================================================\n",
      "                                 coef    std err          t      P>|t|      [0.025      0.975]\n",
      "----------------------------------------------------------------------------------------------\n",
      "const                          0.0005      0.005      0.111      0.911      -0.009       0.010\n",
      "longitude                     -0.4589      0.020    -23.300      0.000      -0.498      -0.420\n",
      "latitude                      -0.4674      0.021    -22.583      0.000      -0.508      -0.427\n",
      "housing_median_age             0.1118      0.005     20.938      0.000       0.101       0.122\n",
      "total_rooms                   -0.0776      0.016     -4.816      0.000      -0.109      -0.046\n",
      "total_bedrooms                 0.2689      0.025     10.729      0.000       0.220       0.318\n",
      "population                    -0.4085      0.012    -33.583      0.000      -0.432      -0.385\n",
      "households                     0.2498      0.026      9.684      0.000       0.199       0.300\n",
      "median_income                  0.6370      0.006    103.852      0.000       0.625       0.649\n",
      "ocean_proximity_INLAND        -0.1629      0.008    -20.809      0.000      -0.178      -0.148\n",
      "ocean_proximity_ISLAND         0.0208      0.004      5.012      0.000       0.013       0.029\n",
      "ocean_proximity_NEAR BAY      -0.0179      0.006     -3.075      0.002      -0.029      -0.006\n",
      "ocean_proximity_NEAR OCEAN     0.0118      0.005      2.327      0.020       0.002       0.022\n",
      "==============================================================================\n",
      "Omnibus:                     3712.359   Durbin-Watson:                   1.995\n",
      "Prob(Omnibus):                  0.000   Jarque-Bera (JB):            11935.012\n",
      "Skew:                           1.140   Prob(JB):                         0.00\n",
      "Kurtosis:                       6.485   Cond. No.                         15.1\n",
      "==============================================================================\n",
      "\n",
      "Warnings:\n",
      "[1] Standard Errors assume that the covariance matrix of the errors is correctly specified.\n"
     ]
    }
   ],
   "source": [
    "# OLS Regression method \n",
    "import statsmodels.api as sm\n",
    "X2 = sm.add_constant(X_train)\n",
    "est = sm.OLS(y_train, X2)\n",
    "est2 = est.fit()\n",
    "print(est2.summary())"
   ]
  },
  {
   "cell_type": "markdown",
   "metadata": {},
   "source": [
    "## 10. Bonus exercise: Perform Linear Regression with one independent variable :"
   ]
  },
  {
   "cell_type": "code",
   "execution_count": 36,
   "metadata": {},
   "outputs": [],
   "source": [
    "# Extract just the median_income column from the independent variables (from X_train and X_test).\n",
    "X_train_median_income=X_train[['median_income']]\n",
    "X_test_median_income=X_test[['median_income']]"
   ]
  },
  {
   "cell_type": "code",
   "execution_count": 37,
   "metadata": {},
   "outputs": [
    {
     "name": "stdout",
     "output_type": "stream",
     "text": [
      "(16512, 1)\n",
      "(16512,)\n"
     ]
    }
   ],
   "source": [
    "# print shape \n",
    "print(X_train_median_income.shape)\n",
    "print(y_train.shape)"
   ]
  },
  {
   "cell_type": "code",
   "execution_count": 38,
   "metadata": {},
   "outputs": [
    {
     "data": {
      "text/plain": [
       "LinearRegression()"
      ]
     },
     "execution_count": 38,
     "metadata": {},
     "output_type": "execute_result"
    }
   ],
   "source": [
    "# Perform linear regression\n",
    "lm = LinearRegression()\n",
    "# fit the model\n",
    "lm.fit(X_train_median_income, y_train)\n"
   ]
  },
  {
   "cell_type": "code",
   "execution_count": 39,
   "metadata": {},
   "outputs": [
    {
     "name": "stdout",
     "output_type": "stream",
     "text": [
      "intercept: 0.0009623341616246028, coef: [0.68890635]\n",
      "rmse with one independent variable: 0.5956353041797614\n",
      "r2_score with one independent variable: 0.6447553962168038\n"
     ]
    }
   ],
   "source": [
    "print(\"intercept: {0}, coef: {1}\".format(lm.intercept_, lm.coef_))\n",
    "print(\"rmse with one independent variable: {}\".format(np.sqrt(metrics.mean_squared_error(y_test, y_pred))))\n",
    "print((\"r2_score with one independent variable: {}\".format(metrics.r2_score(y_test,y_pred))))"
   ]
  },
  {
   "cell_type": "markdown",
   "metadata": {},
   "source": [
    "#### Remarks:"
   ]
  },
  {
   "cell_type": "raw",
   "metadata": {},
   "source": [
    "From the above coefficient value the unit increase in median_income increases the median_house_value by 0.688 unit if only using median_income as independent variable."
   ]
  },
  {
   "cell_type": "code",
   "execution_count": 40,
   "metadata": {},
   "outputs": [
    {
     "data": {
      "text/plain": [
       "[<matplotlib.lines.Line2D at 0x7f8195eaff90>]"
      ]
     },
     "execution_count": 40,
     "metadata": {},
     "output_type": "execute_result"
    },
    {
     "data": {
      "image/png": "[encoded data removed]",
      "text/plain": [
       "<Figure size 432x288 with 1 Axes>"
      ]
     },
     "metadata": {
      "needs_background": "light"
     },
     "output_type": "display_data"
    }
   ],
   "source": [
    "# predict using X_test_median_income.\n",
    "y_pred_median_income=lm.predict(X_test_median_income)\n",
    "#visulalize the relationship with indenpendent variable and target.\n",
    "scaled_df.plot(kind='scatter',x='median_income',y='median_house_value')\n",
    "plt.plot(X_test_median_income, y_pred_median_income,c='red',linewidth=2)"
   ]
  },
  {
   "cell_type": "code",
   "execution_count": 41,
   "metadata": {},
   "outputs": [
    {
     "data": {
      "image/png": "[encoded data removed]",
      "text/plain": [
       "<Figure size 180x180 with 1 Axes>"
      ]
     },
     "metadata": {
      "needs_background": "light"
     },
     "output_type": "display_data"
    }
   ],
   "source": [
    "# sns pair plot graph using one independetent variable.\n",
    "sns.pairplot(scaled_df , x_vars=['median_income'], y_vars= 'median_house_value')\n",
    "plt.show()"
   ]
  },
  {
   "cell_type": "code",
   "execution_count": 42,
   "metadata": {},
   "outputs": [
    {
     "name": "stdout",
     "output_type": "stream",
     "text": [
      "                            OLS Regression Results                            \n",
      "==============================================================================\n",
      "Dep. Variable:     median_house_value   R-squared:                       0.475\n",
      "Model:                            OLS   Adj. R-squared:                  0.475\n",
      "Method:                 Least Squares   F-statistic:                 1.491e+04\n",
      "Date:                Wed, 29 Dec 2021   Prob (F-statistic):               0.00\n",
      "Time:                        16:20:14   Log-Likelihood:                -18119.\n",
      "No. Observations:               16512   AIC:                         3.624e+04\n",
      "Df Residuals:                   16510   BIC:                         3.626e+04\n",
      "Df Model:                           1                                         \n",
      "Covariance Type:            nonrobust                                         \n",
      "=================================================================================\n",
      "                    coef    std err          t      P>|t|      [0.025      0.975]\n",
      "---------------------------------------------------------------------------------\n",
      "const             0.0010      0.006      0.171      0.865      -0.010       0.012\n",
      "median_income     0.6889      0.006    122.119      0.000       0.678       0.700\n",
      "==============================================================================\n",
      "Omnibus:                     3357.201   Durbin-Watson:                   2.002\n",
      "Prob(Omnibus):                  0.000   Jarque-Bera (JB):             7350.616\n",
      "Skew:                           1.176   Prob(JB):                         0.00\n",
      "Kurtosis:                       5.269   Cond. No.                         1.00\n",
      "==============================================================================\n",
      "\n",
      "Warnings:\n",
      "[1] Standard Errors assume that the covariance matrix of the errors is correctly specified.\n"
     ]
    }
   ],
   "source": [
    "# ordinary least square regression method using median_income as an independent variable.\n",
    "X2_median_income = sm.add_constant(X_train_median_income)\n",
    "est = sm.OLS(y_train, X2_median_income)\n",
    "est2 = est.fit()\n",
    "print(est2.summary())"
   ]
  },
  {
   "cell_type": "markdown",
   "metadata": {},
   "source": [
    "#### Remarks :"
   ]
  },
  {
   "cell_type": "markdown",
   "metadata": {},
   "source": [
    "The value of p is \"0.000\" indicates strong linear relationship between median_house_value and median_income."
   ]
  }
 ],
 "metadata": {
  "kernelspec": {
   "display_name": "Python 3",
   "language": "python",
   "name": "python3"
  },
  "language_info": {
   "codemirror_mode": {
    "name": "ipython",
    "version": 3
   },
   "file_extension": ".py",
   "mimetype": "text/x-python",
   "name": "python",
   "nbconvert_exporter": "python",
   "pygments_lexer": "ipython3",
   "version": "3.7.6"
  }
 },
 "nbformat": 4,
 "nbformat_minor": 5
}
